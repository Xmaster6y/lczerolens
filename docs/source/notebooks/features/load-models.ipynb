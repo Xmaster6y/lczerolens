{
 "cells": [
  {
   "cell_type": "markdown",
   "metadata": {
    "id": "Gez6YgH0_U-I"
   },
   "source": [
    "# Load Models\n",
    "\n",
    "[![Open In Colab](https://colab.research.google.com/assets/colab-badge.svg)](https://colab.research.google.com/github/Xmaster6y/lczerolens/blob/main/docs/source/notebooks/features/load-models.ipynb)"
   ]
  },
  {
   "cell_type": "markdown",
   "metadata": {
    "id": "dB5gMB8-_YUI"
   },
   "source": [
    "## Setup"
   ]
  },
  {
   "cell_type": "code",
   "execution_count": 1,
   "metadata": {
    "id": "OV_dFfnB_n7V"
   },
   "outputs": [],
   "source": [
    "MODE = \"local\"  # \"colab\" | \"colab-dev\" | \"local\""
   ]
  },
  {
   "cell_type": "code",
   "execution_count": 2,
   "metadata": {
    "colab": {
     "base_uri": "https://localhost:8080/"
    },
    "id": "Xmcwpzw_-zwo",
    "outputId": "5ff3a32f-e008-4e43-de1d-76bfe5524095"
   },
   "outputs": [],
   "source": [
    "if MODE == \"colab\":\n",
    "    !pip install -q lczerolens[hf]\n",
    "elif MODE == \"colab-dev\":\n",
    "    !rm -r lczerolens\n",
    "    !git clone https://github.com/Xmaster6y/lczerolens -b main\n",
    "    !pip install -q ./lczerolens --extra hf"
   ]
  },
  {
   "cell_type": "markdown",
   "metadata": {},
   "source": [
    "Make sure to install the with the `hf` extra to load models from the Hugging Face Hub."
   ]
  },
  {
   "cell_type": "markdown",
   "metadata": {
    "id": "ELP-wQ9Y_zBe"
   },
   "source": [
    "## Load a Model\n",
    "\n",
    "Load a leela network from file (already converted to `onnx` or `torch`):"
   ]
  },
  {
   "cell_type": "code",
   "execution_count": 3,
   "metadata": {
    "id": "_tefanOKAHGK"
   },
   "outputs": [
    {
     "data": {
      "application/vnd.jupyter.widget-view+json": {
       "model_id": "a509fac6b8f14cdab3f80c2305922996",
       "version_major": 2,
       "version_minor": 0
      },
      "text/plain": [
       "model.onnx:   0%|          | 0.00/3.48M [00:00<?, ?B/s]"
      ]
     },
     "metadata": {},
     "output_type": "display_data"
    },
    {
     "data": {
      "text/plain": [
       "TensorDict(\n",
       "    fields={\n",
       "        board: Tensor(shape=torch.Size([1, 112, 8, 8]), device=cpu, dtype=torch.float32, is_shared=False),\n",
       "        policy: Tensor(shape=torch.Size([1, 1858]), device=cpu, dtype=torch.float32, is_shared=False),\n",
       "        wdl: Tensor(shape=torch.Size([1, 3]), device=cpu, dtype=torch.float32, is_shared=False)},\n",
       "    batch_size=torch.Size([1]),\n",
       "    device=None,\n",
       "    is_shared=False)"
      ]
     },
     "execution_count": 3,
     "metadata": {},
     "output_type": "execute_result"
    }
   ],
   "source": [
    "from huggingface_hub import hf_hub_download\n",
    "from lczerolens import LczeroModel, LczeroBoard\n",
    "\n",
    "path = hf_hub_download(\"lczerolens/maia-1100\", \"model.onnx\")\n",
    "\n",
    "model = LczeroModel.from_path(path)\n",
    "model(LczeroBoard())"
   ]
  },
  {
   "cell_type": "markdown",
   "metadata": {
    "id": "HItj-1HICoiw"
   },
   "source": [
    "To convert original weights see the section [Convert Official Weights](#convert-official-weights)."
   ]
  },
  {
   "cell_type": "markdown",
   "metadata": {
    "id": "UNaoBzdcCqjm"
   },
   "source": [
    "## Directly from the Hub\n",
    "\n",
    "You can also load a model directly from the Hugging Face Hub:"
   ]
  },
  {
   "cell_type": "code",
   "execution_count": 4,
   "metadata": {
    "colab": {
     "base_uri": "https://localhost:8080/"
    },
    "id": "HV67d2eCDIy4",
    "outputId": "2bf19e84-a24c-4f27-c31a-404d5e0d1202"
   },
   "outputs": [
    {
     "data": {
      "text/plain": [
       "TensorDict(\n",
       "    fields={\n",
       "        board: Tensor(shape=torch.Size([1, 112, 8, 8]), device=cpu, dtype=torch.float32, is_shared=False),\n",
       "        policy: Tensor(shape=torch.Size([1, 1858]), device=cpu, dtype=torch.float32, is_shared=False),\n",
       "        wdl: Tensor(shape=torch.Size([1, 3]), device=cpu, dtype=torch.float32, is_shared=False)},\n",
       "    batch_size=torch.Size([1]),\n",
       "    device=None,\n",
       "    is_shared=False)"
      ]
     },
     "execution_count": 4,
     "metadata": {},
     "output_type": "execute_result"
    }
   ],
   "source": [
    "model = LczeroModel.from_hf(\"lczerolens/maia-1100\")\n",
    "model(LczeroBoard())"
   ]
  }
 ],
 "metadata": {
  "colab": {
   "provenance": []
  },
  "kernelspec": {
   "display_name": ".venv",
   "language": "python",
   "name": "python3"
  },
  "language_info": {
   "codemirror_mode": {
    "name": "ipython",
    "version": 3
   },
   "file_extension": ".py",
   "mimetype": "text/x-python",
   "name": "python",
   "nbconvert_exporter": "python",
   "pygments_lexer": "ipython3",
   "version": "3.12.3"
  }
 },
 "nbformat": 4,
 "nbformat_minor": 0
}
