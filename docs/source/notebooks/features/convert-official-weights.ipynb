{
  "cells": [
    {
      "cell_type": "markdown",
      "metadata": {
        "id": "-qCMaHT6xuoB"
      },
      "source": [
        "# Convert Official Weights\n",
        "\n",
        "[![Open In Colab](https://colab.research.google.com/assets/colab-badge.svg)](https://colab.research.google.com/github/Xmaster6y/lczerolens/blob/main/docs/source/notebooks/features/convert_official_weights.ipynb)"
      ]
    },
    {
      "cell_type": "markdown",
      "metadata": {
        "id": "VtZdxVZZx2pL"
      },
      "source": [
        "## Setup"
      ]
    },
    {
      "cell_type": "code",
      "execution_count": 1,
      "metadata": {
        "id": "iMj257hVxlgJ"
      },
      "outputs": [],
      "source": [
        "MODE = \"local\" # \"colab\" | \"colab-dev\" | \"local\""
      ]
    },
    {
      "cell_type": "code",
      "execution_count": null,
      "metadata": {
        "colab": {
          "base_uri": "https://localhost:8080/"
        },
        "id": "WtTH-Oz-yotw",
        "outputId": "62f302e9-5f63-46ab-82a3-0d77ec054d0d"
      },
      "outputs": [],
      "source": [
        "if MODE == \"colab\":\n",
        "    !pip install -q lczerolens\n",
        "elif MODE == \"colab-dev\":\n",
        "    !rm -r lczerolens\n",
        "    !git clone https://github.com/Xmaster6y/lczerolens -b main\n",
        "    !pip install -q ./lczerolens"
      ]
    },
    {
      "cell_type": "code",
      "execution_count": null,
      "metadata": {
        "colab": {
          "base_uri": "https://localhost:8080/"
        },
        "id": "_GdhCPhtyoj3",
        "outputId": "0c3dfe61-3dbf-41ee-f6ec-cd524c713daf"
      },
      "outputs": [],
      "source": [
        "!gdown 1erxB3tULDURjpPhiPWVGr6X986Q8uE6U -O leela-network.pb.gz"
      ]
    },
    {
      "cell_type": "markdown",
      "metadata": {
        "id": "KjLtlNV95WWx"
      },
      "source": [
        "To convert a network you'll need to have installed the `lc0` binaries (**takes about 10 minutes**):"
      ]
    },
    {
      "cell_type": "code",
      "execution_count": 4,
      "metadata": {
        "colab": {
          "base_uri": "https://localhost:8080/"
        },
        "id": "IuQ4hpbv5Z-o",
        "outputId": "338038e6-3d07-4a43-e9f0-b7797555e9ce"
      },
      "outputs": [
        {
          "name": "stdout",
          "output_type": "stream",
          "text": [
            "  Installing build dependencies ... \u001b[?25l\u001b[?25hdone\n",
            "  Getting requirements to build wheel ... \u001b[?25l\u001b[?25hdone\n",
            "  Installing backend dependencies ... \u001b[?25l\u001b[?25hdone\n",
            "  Preparing metadata (pyproject.toml) ... \u001b[?25l\u001b[?25hdone\n",
            "  Building wheel for lczero_bindings (pyproject.toml) ... \u001b[?25l\u001b[?25hdone\n"
          ]
        }
      ],
      "source": [
        "!pip install -q git+https://github.com/LeelaChessZero/lc0"
      ]
    },
    {
      "cell_type": "markdown",
      "metadata": {
        "id": "AM3K3PCgx8g0"
      },
      "source": [
        "## Convert a Model\n",
        "\n",
        "You can convert networks to `onnx` using the official `lc0` binaries or\n",
        "by using the `backends` module:"
      ]
    },
    {
      "cell_type": "code",
      "execution_count": 6,
      "metadata": {
        "colab": {
          "base_uri": "https://localhost:8080/",
          "height": 120
        },
        "id": "f-6vcmwEyb7n",
        "outputId": "4989f19d-27cb-4cb7-bf01-28eaad64f405"
      },
      "outputs": [
        {
          "name": "stdout",
          "output_type": "stream",
          "text": [
            "\n",
            "Format\n",
            "~~~~~~\n",
            "            Weights encoding: LINEAR16\n",
            "                       Input: INPUT_CLASSICAL_112_PLANE\n",
            "                     Network: NETWORK_SE_WITH_HEADFORMAT\n",
            "                      Policy: POLICY_CONVOLUTION\n",
            "                       Value: VALUE_WDL\n",
            "\n",
            "Weights\n",
            "~~~~~~~\n",
            "                      Blocks: 6\n",
            "                   SE blocks: 6\n",
            "                     Filters: 64\n",
            "                      Policy: Convolution\n",
            "           Policy activation: ACTIVATION_DEFAULT\n",
            "                       Value: WDL\n",
            "                         MLH: Absent\n",
            "Converting Leela network to the ONNX.\n",
            "\n",
            "ONNX interface\n",
            "~~~~~~~~~~~~~~\n",
            "                   Data type: FLOAT\n",
            "                Input planes: /input/planes\n",
            "                  Output WDL: /output/wdl\n",
            "               Output Policy: /output/policy\n",
            "Done.\n",
            "\n"
          ]
        }
      ],
      "source": [
        "from lczerolens import backends\n",
        "\n",
        "output = backends.convert_to_onnx(\n",
        "    \"leela-network.pb.gz\",\n",
        "    \"leela-network.onnx\"\n",
        ")\n",
        "print(output)"
      ]
    },
    {
      "cell_type": "markdown",
      "metadata": {
        "id": "P3RrLQHF5qkI"
      },
      "source": [
        "See [Move Prediction](move-prediction.ipynb) to see how to use the converted network."
      ]
    },
    {
      "cell_type": "markdown",
      "metadata": {
        "id": "qBzY4spb5nGg"
      },
      "source": [
        "## Note\n",
        "\n",
        "Only the latest networks are supported. To convert older weights, you should build the associated binaries."
      ]
    }
  ],
  "metadata": {
    "colab": {
      "provenance": []
    },
    "kernelspec": {
      "display_name": "Python 3",
      "name": "python3"
    },
    "language_info": {
      "name": "python"
    }
  },
  "nbformat": 4,
  "nbformat_minor": 0
}
