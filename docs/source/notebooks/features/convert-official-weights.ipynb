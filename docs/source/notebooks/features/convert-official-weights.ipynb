{
 "cells": [
  {
   "cell_type": "markdown",
   "metadata": {
    "id": "-qCMaHT6xuoB"
   },
   "source": [
    "# Convert Official Weights\n",
    "\n",
    "[![Open In Colab](https://colab.research.google.com/assets/colab-badge.svg)](https://colab.research.google.com/github/Xmaster6y/lczerolens/blob/main/docs/source/notebooks/features/convert-official-weights.ipynb)"
   ]
  },
  {
   "cell_type": "markdown",
   "metadata": {
    "id": "VtZdxVZZx2pL"
   },
   "source": [
    "## Setup"
   ]
  },
  {
   "cell_type": "code",
   "execution_count": 1,
   "metadata": {
    "id": "iMj257hVxlgJ"
   },
   "outputs": [],
   "source": [
    "MODE = \"local\"  # \"colab\" | \"colab-dev\" | \"local\""
   ]
  },
  {
   "cell_type": "code",
   "execution_count": 2,
   "metadata": {
    "colab": {
     "base_uri": "https://localhost:8080/"
    },
    "id": "WtTH-Oz-yotw",
    "outputId": "62f302e9-5f63-46ab-82a3-0d77ec054d0d"
   },
   "outputs": [],
   "source": [
    "if MODE == \"colab\":\n",
    "    !pip install -q lczerolens[backends,hf]\n",
    "elif MODE == \"colab-dev\":\n",
    "    !rm -r lczerolens\n",
    "    !git clone https://github.com/Xmaster6y/lczerolens -b main\n",
    "    !pip install -q ./lczerolens --extra backends --extra hf"
   ]
  },
  {
   "cell_type": "markdown",
   "metadata": {},
   "source": [
    "Make sure to install the with the `backends` and `hf` extras. `backends` is required to convert the network to `onnx` and `hf` is required to load files from the Hugging Face Hub."
   ]
  },
  {
   "cell_type": "markdown",
   "metadata": {
    "id": "AM3K3PCgx8g0"
   },
   "source": [
    "## Convert a Model\n",
    "\n",
    "You can convert networks to `onnx` using the official `lc0` binaries or\n",
    "by using the `backends` module:"
   ]
  },
  {
   "cell_type": "code",
   "execution_count": 3,
   "metadata": {
    "colab": {
     "base_uri": "https://localhost:8080/",
     "height": 120
    },
    "id": "f-6vcmwEyb7n",
    "outputId": "4989f19d-27cb-4cb7-bf01-28eaad64f405"
   },
   "outputs": [
    {
     "name": "stdout",
     "output_type": "stream",
     "text": [
      "\n",
      "Format\n",
      "~~~~~~\n",
      "            Weights encoding: LINEAR16\n",
      "                       Input: INPUT_CLASSICAL_112_PLANE\n",
      "                     Network: NETWORK_SE_WITH_HEADFORMAT\n",
      "                      Policy: POLICY_CONVOLUTION\n",
      "                       Value: VALUE_WDL\n",
      "\n",
      "Weights\n",
      "~~~~~~~\n",
      "                      Blocks: 6\n",
      "                   SE blocks: 6\n",
      "                     Filters: 64\n",
      "                      Policy: Convolution\n",
      "           Policy activation: ACTIVATION_DEFAULT\n",
      "                       Value: WDL\n",
      "                         MLH: Absent\n",
      "Converting Leela network to the ONNX.\n",
      "\n",
      "ONNX interface\n",
      "~~~~~~~~~~~~~~\n",
      "                   Data type: FLOAT\n",
      "                Input planes: /input/planes\n",
      "                  Output WDL: /output/wdl\n",
      "               Output Policy: /output/policy\n",
      "Done.\n",
      "\n"
     ]
    }
   ],
   "source": [
    "from huggingface_hub import hf_hub_download\n",
    "from lczerolens import backends\n",
    "\n",
    "path = hf_hub_download(\"lczerolens/maia-1100\", \"model.pb.gz\")\n",
    "\n",
    "output = backends.convert_to_onnx(path, \"maia-1100.onnx\")\n",
    "print(output)"
   ]
  },
  {
   "cell_type": "markdown",
   "metadata": {
    "id": "P3RrLQHF5qkI"
   },
   "source": [
    "See [Move Prediction](move-prediction.ipynb) to see how to use the converted network."
   ]
  },
  {
   "cell_type": "markdown",
   "metadata": {
    "id": "qBzY4spb5nGg"
   },
   "source": [
    "## Note\n",
    "\n",
    "Only the latest networks are supported. To convert older weights, you should build the associated binaries."
   ]
  }
 ],
 "metadata": {
  "colab": {
   "provenance": []
  },
  "kernelspec": {
   "display_name": ".venv",
   "language": "python",
   "name": "python3"
  },
  "language_info": {
   "codemirror_mode": {
    "name": "ipython",
    "version": 3
   },
   "file_extension": ".py",
   "mimetype": "text/x-python",
   "name": "python",
   "nbconvert_exporter": "python",
   "pygments_lexer": "ipython3",
   "version": "3.12.3"
  }
 },
 "nbformat": 4,
 "nbformat_minor": 0
}
