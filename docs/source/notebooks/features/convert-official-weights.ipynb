{
  "cells": [
    {
      "cell_type": "markdown",
      "metadata": {
        "id": "-qCMaHT6xuoB"
      },
      "source": [
        "# Convert Official Weights"
      ]
    },
    {
      "cell_type": "markdown",
      "metadata": {
        "id": "VtZdxVZZx2pL"
      },
      "source": [
        "## Setup"
      ]
    },
    {
      "cell_type": "code",
      "execution_count": 1,
      "metadata": {
        "id": "iMj257hVxlgJ"
      },
      "outputs": [],
      "source": [
        "DEV = True"
      ]
    },
    {
      "cell_type": "code",
      "execution_count": 2,
      "metadata": {
        "colab": {
          "base_uri": "https://localhost:8080/"
        },
        "id": "WtTH-Oz-yotw",
        "outputId": "833c3ba9-2a6b-4f85-885f-0f890f4318b9"
      },
      "outputs": [
        {
          "name": "stdout",
          "output_type": "stream",
          "text": [
            "Collecting git+https://github.com/Xmaster6y/lczerolens@docs\n",
            "  Cloning https://github.com/Xmaster6y/lczerolens (to revision docs) to /tmp/pip-req-build-04_18ylf\n",
            "  Running command git clone --filter=blob:none --quiet https://github.com/Xmaster6y/lczerolens /tmp/pip-req-build-04_18ylf\n",
            "  Running command git checkout -b docs --track origin/docs\n",
            "  Switched to a new branch 'docs'\n",
            "  Branch 'docs' set up to track remote branch 'docs' from 'origin'.\n",
            "  Resolved https://github.com/Xmaster6y/lczerolens to commit 48f727b799a9320d82b580ba14edfd21de558621\n",
            "  Installing build dependencies ... \u001b[?25l\u001b[?25hdone\n",
            "  Getting requirements to build wheel ... \u001b[?25l\u001b[?25hdone\n",
            "  Preparing metadata (pyproject.toml) ... \u001b[?25l\u001b[?25hdone\n",
            "Collecting datasets<3.0.0,>=2.19.1 (from lczerolens==0.2.0.dev0)\n",
            "  Downloading datasets-2.20.0-py3-none-any.whl (547 kB)\n",
            "\u001b[2K     \u001b[90m━━━━━━━━━━━━━━━━━━━━━━━━━━━━━━━━━━━━━━━━\u001b[0m \u001b[32m547.8/547.8 kB\u001b[0m \u001b[31m3.6 MB/s\u001b[0m eta \u001b[36m0:00:00\u001b[0m\n",
            "\u001b[?25hCollecting einops<0.8.0,>=0.7.0 (from lczerolens==0.2.0.dev0)\n",
            "  Downloading einops-0.7.0-py3-none-any.whl (44 kB)\n",
            "\u001b[2K     \u001b[90m━━━━━━━━━━━━━━━━━━━━━━━━━━━━━━━━━━━━━━━━\u001b[0m \u001b[32m44.6/44.6 kB\u001b[0m \u001b[31m4.6 MB/s\u001b[0m eta \u001b[36m0:00:00\u001b[0m\n",
            "\u001b[?25hCollecting jsonlines<5.0.0,>=4.0.0 (from lczerolens==0.2.0.dev0)\n",
            "  Downloading jsonlines-4.0.0-py3-none-any.whl (8.7 kB)\n",
            "Collecting nnsight<0.3.0,>=0.2.19 (from lczerolens==0.2.0.dev0)\n",
            "  Downloading nnsight-0.2.19-py3-none-any.whl (3.5 MB)\n",
            "\u001b[2K     \u001b[90m━━━━━━━━━━━━━━━━━━━━━━━━━━━━━━━━━━━━━━━━\u001b[0m \u001b[32m3.5/3.5 MB\u001b[0m \u001b[31m28.8 MB/s\u001b[0m eta \u001b[36m0:00:00\u001b[0m\n",
            "\u001b[?25hCollecting onnx2torch<2.0.0,>=1.5.13 (from lczerolens==0.2.0.dev0)\n",
            "  Downloading onnx2torch-1.5.14-py3-none-any.whl (80 kB)\n",
            "\u001b[2K     \u001b[90m━━━━━━━━━━━━━━━━━━━━━━━━━━━━━━━━━━━━━━━━\u001b[0m \u001b[32m80.1/80.1 kB\u001b[0m \u001b[31m7.9 MB/s\u001b[0m eta \u001b[36m0:00:00\u001b[0m\n",
            "\u001b[?25hCollecting python-chess<2.0,>=1.999 (from lczerolens==0.2.0.dev0)\n",
            "  Downloading python_chess-1.999-py3-none-any.whl (1.4 kB)\n",
            "Collecting scikit-learn<2.0.0,>=1.4.0 (from lczerolens==0.2.0.dev0)\n",
            "  Downloading scikit_learn-1.5.1-cp310-cp310-manylinux_2_17_x86_64.manylinux2014_x86_64.whl (13.4 MB)\n",
            "\u001b[2K     \u001b[90m━━━━━━━━━━━━━━━━━━━━━━━━━━━━━━━━━━━━━━━━\u001b[0m \u001b[32m13.4/13.4 MB\u001b[0m \u001b[31m50.3 MB/s\u001b[0m eta \u001b[36m0:00:00\u001b[0m\n",
            "\u001b[?25hCollecting tensordict<0.4.0,>=0.3.0 (from lczerolens==0.2.0.dev0)\n",
            "  Downloading tensordict-0.3.2-cp310-cp310-manylinux1_x86_64.whl (1.0 MB)\n",
            "\u001b[2K     \u001b[90m━━━━━━━━━━━━━━━━━━━━━━━━━━━━━━━━━━━━━━━━\u001b[0m \u001b[32m1.0/1.0 MB\u001b[0m \u001b[31m44.5 MB/s\u001b[0m eta \u001b[36m0:00:00\u001b[0m\n",
            "\u001b[?25hRequirement already satisfied: torch>=2 in /usr/local/lib/python3.10/dist-packages (from lczerolens==0.2.0.dev0) (2.3.0+cu121)\n",
            "Collecting zennit<=0.4.6 (from lczerolens==0.2.0.dev0)\n",
            "  Downloading zennit-0.4.6-py3-none-any.whl (50 kB)\n",
            "\u001b[2K     \u001b[90m━━━━━━━━━━━━━━━━━━━━━━━━━━━━━━━━━━━━━━━━\u001b[0m \u001b[32m50.9/50.9 kB\u001b[0m \u001b[31m5.9 MB/s\u001b[0m eta \u001b[36m0:00:00\u001b[0m\n",
            "\u001b[?25hCollecting zennit-crp<0.7.0,>=0.6.0 (from lczerolens==0.2.0.dev0)\n",
            "  Downloading zennit_crp-0.6.0-py3-none-any.whl (35 kB)\n",
            "Requirement already satisfied: filelock in /usr/local/lib/python3.10/dist-packages (from datasets<3.0.0,>=2.19.1->lczerolens==0.2.0.dev0) (3.15.4)\n",
            "Requirement already satisfied: numpy>=1.17 in /usr/local/lib/python3.10/dist-packages (from datasets<3.0.0,>=2.19.1->lczerolens==0.2.0.dev0) (1.25.2)\n",
            "Collecting pyarrow>=15.0.0 (from datasets<3.0.0,>=2.19.1->lczerolens==0.2.0.dev0)\n",
            "  Downloading pyarrow-16.1.0-cp310-cp310-manylinux_2_28_x86_64.whl (40.8 MB)\n",
            "\u001b[2K     \u001b[90m━━━━━━━━━━━━━━━━━━━━━━━━━━━━━━━━━━━━━━━━\u001b[0m \u001b[32m40.8/40.8 MB\u001b[0m \u001b[31m14.5 MB/s\u001b[0m eta \u001b[36m0:00:00\u001b[0m\n",
            "\u001b[?25hRequirement already satisfied: pyarrow-hotfix in /usr/local/lib/python3.10/dist-packages (from datasets<3.0.0,>=2.19.1->lczerolens==0.2.0.dev0) (0.6)\n",
            "Collecting dill<0.3.9,>=0.3.0 (from datasets<3.0.0,>=2.19.1->lczerolens==0.2.0.dev0)\n",
            "  Downloading dill-0.3.8-py3-none-any.whl (116 kB)\n",
            "\u001b[2K     \u001b[90m━━━━━━━━━━━━━━━━━━━━━━━━━━━━━━━━━━━━━━━━\u001b[0m \u001b[32m116.3/116.3 kB\u001b[0m \u001b[31m10.7 MB/s\u001b[0m eta \u001b[36m0:00:00\u001b[0m\n",
            "\u001b[?25hRequirement already satisfied: pandas in /usr/local/lib/python3.10/dist-packages (from datasets<3.0.0,>=2.19.1->lczerolens==0.2.0.dev0) (2.0.3)\n",
            "Collecting requests>=2.32.2 (from datasets<3.0.0,>=2.19.1->lczerolens==0.2.0.dev0)\n",
            "  Downloading requests-2.32.3-py3-none-any.whl (64 kB)\n",
            "\u001b[2K     \u001b[90m━━━━━━━━━━━━━━━━━━━━━━━━━━━━━━━━━━━━━━━━\u001b[0m \u001b[32m64.9/64.9 kB\u001b[0m \u001b[31m6.3 MB/s\u001b[0m eta \u001b[36m0:00:00\u001b[0m\n",
            "\u001b[?25hRequirement already satisfied: tqdm>=4.66.3 in /usr/local/lib/python3.10/dist-packages (from datasets<3.0.0,>=2.19.1->lczerolens==0.2.0.dev0) (4.66.4)\n",
            "Collecting xxhash (from datasets<3.0.0,>=2.19.1->lczerolens==0.2.0.dev0)\n",
            "  Downloading xxhash-3.4.1-cp310-cp310-manylinux_2_17_x86_64.manylinux2014_x86_64.whl (194 kB)\n",
            "\u001b[2K     \u001b[90m━━━━━━━━━━━━━━━━━━━━━━━━━━━━━━━━━━━━━━━━\u001b[0m \u001b[32m194.1/194.1 kB\u001b[0m \u001b[31m17.4 MB/s\u001b[0m eta \u001b[36m0:00:00\u001b[0m\n",
            "\u001b[?25hCollecting multiprocess (from datasets<3.0.0,>=2.19.1->lczerolens==0.2.0.dev0)\n",
            "  Downloading multiprocess-0.70.16-py310-none-any.whl (134 kB)\n",
            "\u001b[2K     \u001b[90m━━━━━━━━━━━━━━━━━━━━━━━━━━━━━━━━━━━━━━━━\u001b[0m \u001b[32m134.8/134.8 kB\u001b[0m \u001b[31m13.7 MB/s\u001b[0m eta \u001b[36m0:00:00\u001b[0m\n",
            "\u001b[?25hRequirement already satisfied: fsspec[http]<=2024.5.0,>=2023.1.0 in /usr/local/lib/python3.10/dist-packages (from datasets<3.0.0,>=2.19.1->lczerolens==0.2.0.dev0) (2023.6.0)\n",
            "Requirement already satisfied: aiohttp in /usr/local/lib/python3.10/dist-packages (from datasets<3.0.0,>=2.19.1->lczerolens==0.2.0.dev0) (3.9.5)\n",
            "Requirement already satisfied: huggingface-hub>=0.21.2 in /usr/local/lib/python3.10/dist-packages (from datasets<3.0.0,>=2.19.1->lczerolens==0.2.0.dev0) (0.23.4)\n",
            "Requirement already satisfied: packaging in /usr/local/lib/python3.10/dist-packages (from datasets<3.0.0,>=2.19.1->lczerolens==0.2.0.dev0) (24.1)\n",
            "Requirement already satisfied: pyyaml>=5.1 in /usr/local/lib/python3.10/dist-packages (from datasets<3.0.0,>=2.19.1->lczerolens==0.2.0.dev0) (6.0.1)\n",
            "Requirement already satisfied: attrs>=19.2.0 in /usr/local/lib/python3.10/dist-packages (from jsonlines<5.0.0,>=4.0.0->lczerolens==0.2.0.dev0) (23.2.0)\n",
            "Requirement already satisfied: transformers in /usr/local/lib/python3.10/dist-packages (from nnsight<0.3.0,>=0.2.19->lczerolens==0.2.0.dev0) (4.41.2)\n",
            "Requirement already satisfied: protobuf in /usr/local/lib/python3.10/dist-packages (from nnsight<0.3.0,>=0.2.19->lczerolens==0.2.0.dev0) (3.20.3)\n",
            "Collecting python-socketio[client] (from nnsight<0.3.0,>=0.2.19->lczerolens==0.2.0.dev0)\n",
            "  Downloading python_socketio-5.11.3-py3-none-any.whl (76 kB)\n",
            "\u001b[2K     \u001b[90m━━━━━━━━━━━━━━━━━━━━━━━━━━━━━━━━━━━━━━━━\u001b[0m \u001b[32m76.2/76.2 kB\u001b[0m \u001b[31m5.9 MB/s\u001b[0m eta \u001b[36m0:00:00\u001b[0m\n",
            "\u001b[?25hRequirement already satisfied: tokenizers>=0.13.0 in /usr/local/lib/python3.10/dist-packages (from nnsight<0.3.0,>=0.2.19->lczerolens==0.2.0.dev0) (0.19.1)\n",
            "Requirement already satisfied: pydantic>=2.4.0 in /usr/local/lib/python3.10/dist-packages (from nnsight<0.3.0,>=0.2.19->lczerolens==0.2.0.dev0) (2.7.4)\n",
            "Requirement already satisfied: sentencepiece in /usr/local/lib/python3.10/dist-packages (from nnsight<0.3.0,>=0.2.19->lczerolens==0.2.0.dev0) (0.1.99)\n",
            "Requirement already satisfied: torchvision in /usr/local/lib/python3.10/dist-packages (from nnsight<0.3.0,>=0.2.19->lczerolens==0.2.0.dev0) (0.18.0+cu121)\n",
            "Collecting accelerate (from nnsight<0.3.0,>=0.2.19->lczerolens==0.2.0.dev0)\n",
            "  Downloading accelerate-0.31.0-py3-none-any.whl (309 kB)\n",
            "\u001b[2K     \u001b[90m━━━━━━━━━━━━━━━━━━━━━━━━━━━━━━━━━━━━━━━━\u001b[0m \u001b[32m309.4/309.4 kB\u001b[0m \u001b[31m24.3 MB/s\u001b[0m eta \u001b[36m0:00:00\u001b[0m\n",
            "\u001b[?25hCollecting diffusers (from nnsight<0.3.0,>=0.2.19->lczerolens==0.2.0.dev0)\n",
            "  Downloading diffusers-0.29.2-py3-none-any.whl (2.2 MB)\n",
            "\u001b[2K     \u001b[90m━━━━━━━━━━━━━━━━━━━━━━━━━━━━━━━━━━━━━━━━\u001b[0m \u001b[32m2.2/2.2 MB\u001b[0m \u001b[31m57.5 MB/s\u001b[0m eta \u001b[36m0:00:00\u001b[0m\n",
            "\u001b[?25hCollecting onnx>=1.9.0 (from onnx2torch<2.0.0,>=1.5.13->lczerolens==0.2.0.dev0)\n",
            "  Downloading onnx-1.16.1-cp310-cp310-manylinux_2_17_x86_64.manylinux2014_x86_64.whl (15.9 MB)\n",
            "\u001b[2K     \u001b[90m━━━━━━━━━━━━━━━━━━━━━━━━━━━━━━━━━━━━━━━━\u001b[0m \u001b[32m15.9/15.9 MB\u001b[0m \u001b[31m49.1 MB/s\u001b[0m eta \u001b[36m0:00:00\u001b[0m\n",
            "\u001b[?25hCollecting chess<2,>=1 (from python-chess<2.0,>=1.999->lczerolens==0.2.0.dev0)\n",
            "  Downloading chess-1.10.0-py3-none-any.whl (154 kB)\n",
            "\u001b[2K     \u001b[90m━━━━━━━━━━━━━━━━━━━━━━━━━━━━━━━━━━━━━━━━\u001b[0m \u001b[32m154.4/154.4 kB\u001b[0m \u001b[31m16.4 MB/s\u001b[0m eta \u001b[36m0:00:00\u001b[0m\n",
            "\u001b[?25hRequirement already satisfied: scipy>=1.6.0 in /usr/local/lib/python3.10/dist-packages (from scikit-learn<2.0.0,>=1.4.0->lczerolens==0.2.0.dev0) (1.11.4)\n",
            "Requirement already satisfied: joblib>=1.2.0 in /usr/local/lib/python3.10/dist-packages (from scikit-learn<2.0.0,>=1.4.0->lczerolens==0.2.0.dev0) (1.4.2)\n",
            "Requirement already satisfied: threadpoolctl>=3.1.0 in /usr/local/lib/python3.10/dist-packages (from scikit-learn<2.0.0,>=1.4.0->lczerolens==0.2.0.dev0) (3.5.0)\n",
            "Collecting torch>=2 (from lczerolens==0.2.0.dev0)\n",
            "  Downloading torch-2.2.2-cp310-cp310-manylinux1_x86_64.whl (755.5 MB)\n",
            "\u001b[2K     \u001b[90m━━━━━━━━━━━━━━━━━━━━━━━━━━━━━━━━━━━━━━━━\u001b[0m \u001b[32m755.5/755.5 MB\u001b[0m \u001b[31m1.4 MB/s\u001b[0m eta \u001b[36m0:00:00\u001b[0m\n",
            "\u001b[?25hRequirement already satisfied: cloudpickle in /usr/local/lib/python3.10/dist-packages (from tensordict<0.4.0,>=0.3.0->lczerolens==0.2.0.dev0) (2.2.1)\n",
            "Requirement already satisfied: typing-extensions>=4.8.0 in /usr/local/lib/python3.10/dist-packages (from torch>=2->lczerolens==0.2.0.dev0) (4.12.2)\n",
            "Requirement already satisfied: sympy in /usr/local/lib/python3.10/dist-packages (from torch>=2->lczerolens==0.2.0.dev0) (1.12.1)\n",
            "Requirement already satisfied: networkx in /usr/local/lib/python3.10/dist-packages (from torch>=2->lczerolens==0.2.0.dev0) (3.3)\n",
            "Requirement already satisfied: jinja2 in /usr/local/lib/python3.10/dist-packages (from torch>=2->lczerolens==0.2.0.dev0) (3.1.4)\n",
            "Collecting nvidia-cuda-nvrtc-cu12==12.1.105 (from torch>=2->lczerolens==0.2.0.dev0)\n",
            "  Using cached nvidia_cuda_nvrtc_cu12-12.1.105-py3-none-manylinux1_x86_64.whl (23.7 MB)\n",
            "Collecting nvidia-cuda-runtime-cu12==12.1.105 (from torch>=2->lczerolens==0.2.0.dev0)\n",
            "  Using cached nvidia_cuda_runtime_cu12-12.1.105-py3-none-manylinux1_x86_64.whl (823 kB)\n",
            "Collecting nvidia-cuda-cupti-cu12==12.1.105 (from torch>=2->lczerolens==0.2.0.dev0)\n",
            "  Using cached nvidia_cuda_cupti_cu12-12.1.105-py3-none-manylinux1_x86_64.whl (14.1 MB)\n",
            "Collecting nvidia-cudnn-cu12==8.9.2.26 (from torch>=2->lczerolens==0.2.0.dev0)\n",
            "  Using cached nvidia_cudnn_cu12-8.9.2.26-py3-none-manylinux1_x86_64.whl (731.7 MB)\n",
            "Collecting nvidia-cublas-cu12==12.1.3.1 (from torch>=2->lczerolens==0.2.0.dev0)\n",
            "  Using cached nvidia_cublas_cu12-12.1.3.1-py3-none-manylinux1_x86_64.whl (410.6 MB)\n",
            "Collecting nvidia-cufft-cu12==11.0.2.54 (from torch>=2->lczerolens==0.2.0.dev0)\n",
            "  Using cached nvidia_cufft_cu12-11.0.2.54-py3-none-manylinux1_x86_64.whl (121.6 MB)\n",
            "Collecting nvidia-curand-cu12==10.3.2.106 (from torch>=2->lczerolens==0.2.0.dev0)\n",
            "  Using cached nvidia_curand_cu12-10.3.2.106-py3-none-manylinux1_x86_64.whl (56.5 MB)\n",
            "Collecting nvidia-cusolver-cu12==11.4.5.107 (from torch>=2->lczerolens==0.2.0.dev0)\n",
            "  Using cached nvidia_cusolver_cu12-11.4.5.107-py3-none-manylinux1_x86_64.whl (124.2 MB)\n",
            "Collecting nvidia-cusparse-cu12==12.1.0.106 (from torch>=2->lczerolens==0.2.0.dev0)\n",
            "  Using cached nvidia_cusparse_cu12-12.1.0.106-py3-none-manylinux1_x86_64.whl (196.0 MB)\n",
            "Collecting nvidia-nccl-cu12==2.19.3 (from torch>=2->lczerolens==0.2.0.dev0)\n",
            "  Downloading nvidia_nccl_cu12-2.19.3-py3-none-manylinux1_x86_64.whl (166.0 MB)\n",
            "\u001b[2K     \u001b[90m━━━━━━━━━━━━━━━━━━━━━━━━━━━━━━━━━━━━━━━━\u001b[0m \u001b[32m166.0/166.0 MB\u001b[0m \u001b[31m5.4 MB/s\u001b[0m eta \u001b[36m0:00:00\u001b[0m\n",
            "\u001b[?25hCollecting nvidia-nvtx-cu12==12.1.105 (from torch>=2->lczerolens==0.2.0.dev0)\n",
            "  Using cached nvidia_nvtx_cu12-12.1.105-py3-none-manylinux1_x86_64.whl (99 kB)\n",
            "Collecting triton==2.2.0 (from torch>=2->lczerolens==0.2.0.dev0)\n",
            "  Downloading triton-2.2.0-cp310-cp310-manylinux_2_17_x86_64.manylinux2014_x86_64.whl (167.9 MB)\n",
            "\u001b[2K     \u001b[90m━━━━━━━━━━━━━━━━━━━━━━━━━━━━━━━━━━━━━━━━\u001b[0m \u001b[32m167.9/167.9 MB\u001b[0m \u001b[31m6.0 MB/s\u001b[0m eta \u001b[36m0:00:00\u001b[0m\n",
            "\u001b[?25hCollecting nvidia-nvjitlink-cu12 (from nvidia-cusolver-cu12==11.4.5.107->torch>=2->lczerolens==0.2.0.dev0)\n",
            "  Downloading nvidia_nvjitlink_cu12-12.5.82-py3-none-manylinux2014_x86_64.whl (21.3 MB)\n",
            "\u001b[2K     \u001b[90m━━━━━━━━━━━━━━━━━━━━━━━━━━━━━━━━━━━━━━━━\u001b[0m \u001b[32m21.3/21.3 MB\u001b[0m \u001b[31m20.0 MB/s\u001b[0m eta \u001b[36m0:00:00\u001b[0m\n",
            "\u001b[?25hRequirement already satisfied: click in /usr/local/lib/python3.10/dist-packages (from zennit<=0.4.6->lczerolens==0.2.0.dev0) (8.1.7)\n",
            "Requirement already satisfied: Pillow in /usr/local/lib/python3.10/dist-packages (from zennit<=0.4.6->lczerolens==0.2.0.dev0) (9.4.0)\n",
            "Requirement already satisfied: matplotlib in /usr/local/lib/python3.10/dist-packages (from zennit-crp<0.7.0,>=0.6.0->lczerolens==0.2.0.dev0) (3.7.1)\n",
            "Requirement already satisfied: aiosignal>=1.1.2 in /usr/local/lib/python3.10/dist-packages (from aiohttp->datasets<3.0.0,>=2.19.1->lczerolens==0.2.0.dev0) (1.3.1)\n",
            "Requirement already satisfied: frozenlist>=1.1.1 in /usr/local/lib/python3.10/dist-packages (from aiohttp->datasets<3.0.0,>=2.19.1->lczerolens==0.2.0.dev0) (1.4.1)\n",
            "Requirement already satisfied: multidict<7.0,>=4.5 in /usr/local/lib/python3.10/dist-packages (from aiohttp->datasets<3.0.0,>=2.19.1->lczerolens==0.2.0.dev0) (6.0.5)\n",
            "Requirement already satisfied: yarl<2.0,>=1.0 in /usr/local/lib/python3.10/dist-packages (from aiohttp->datasets<3.0.0,>=2.19.1->lczerolens==0.2.0.dev0) (1.9.4)\n",
            "Requirement already satisfied: async-timeout<5.0,>=4.0 in /usr/local/lib/python3.10/dist-packages (from aiohttp->datasets<3.0.0,>=2.19.1->lczerolens==0.2.0.dev0) (4.0.3)\n",
            "Requirement already satisfied: annotated-types>=0.4.0 in /usr/local/lib/python3.10/dist-packages (from pydantic>=2.4.0->nnsight<0.3.0,>=0.2.19->lczerolens==0.2.0.dev0) (0.7.0)\n",
            "Requirement already satisfied: pydantic-core==2.18.4 in /usr/local/lib/python3.10/dist-packages (from pydantic>=2.4.0->nnsight<0.3.0,>=0.2.19->lczerolens==0.2.0.dev0) (2.18.4)\n",
            "Requirement already satisfied: charset-normalizer<4,>=2 in /usr/local/lib/python3.10/dist-packages (from requests>=2.32.2->datasets<3.0.0,>=2.19.1->lczerolens==0.2.0.dev0) (3.3.2)\n",
            "Requirement already satisfied: idna<4,>=2.5 in /usr/local/lib/python3.10/dist-packages (from requests>=2.32.2->datasets<3.0.0,>=2.19.1->lczerolens==0.2.0.dev0) (3.7)\n",
            "Requirement already satisfied: urllib3<3,>=1.21.1 in /usr/local/lib/python3.10/dist-packages (from requests>=2.32.2->datasets<3.0.0,>=2.19.1->lczerolens==0.2.0.dev0) (2.0.7)\n",
            "Requirement already satisfied: certifi>=2017.4.17 in /usr/local/lib/python3.10/dist-packages (from requests>=2.32.2->datasets<3.0.0,>=2.19.1->lczerolens==0.2.0.dev0) (2024.6.2)\n",
            "INFO: pip is looking at multiple versions of torchvision to determine which version is compatible with other requirements. This could take a while.\n",
            "Collecting torchvision (from nnsight<0.3.0,>=0.2.19->lczerolens==0.2.0.dev0)\n",
            "  Downloading torchvision-0.18.1-cp310-cp310-manylinux1_x86_64.whl (7.0 MB)\n",
            "\u001b[2K     \u001b[90m━━━━━━━━━━━━━━━━━━━━━━━━━━━━━━━━━━━━━━━━\u001b[0m \u001b[32m7.0/7.0 MB\u001b[0m \u001b[31m24.9 MB/s\u001b[0m eta \u001b[36m0:00:00\u001b[0m\n",
            "\u001b[?25h  Downloading torchvision-0.18.0-cp310-cp310-manylinux1_x86_64.whl (7.0 MB)\n",
            "\u001b[2K     \u001b[90m━━━━━━━━━━━━━━━━━━━━━━━━━━━━━━━━━━━━━━━━\u001b[0m \u001b[32m7.0/7.0 MB\u001b[0m \u001b[31m25.6 MB/s\u001b[0m eta \u001b[36m0:00:00\u001b[0m\n",
            "\u001b[?25h  Downloading torchvision-0.17.2-cp310-cp310-manylinux1_x86_64.whl (6.9 MB)\n",
            "\u001b[2K     \u001b[90m━━━━━━━━━━━━━━━━━━━━━━━━━━━━━━━━━━━━━━━━\u001b[0m \u001b[32m6.9/6.9 MB\u001b[0m \u001b[31m25.7 MB/s\u001b[0m eta \u001b[36m0:00:00\u001b[0m\n",
            "\u001b[?25hRequirement already satisfied: psutil in /usr/local/lib/python3.10/dist-packages (from accelerate->nnsight<0.3.0,>=0.2.19->lczerolens==0.2.0.dev0) (5.9.5)\n",
            "Requirement already satisfied: safetensors>=0.3.1 in /usr/local/lib/python3.10/dist-packages (from accelerate->nnsight<0.3.0,>=0.2.19->lczerolens==0.2.0.dev0) (0.4.3)\n",
            "Requirement already satisfied: importlib-metadata in /usr/local/lib/python3.10/dist-packages (from diffusers->nnsight<0.3.0,>=0.2.19->lczerolens==0.2.0.dev0) (8.0.0)\n",
            "Requirement already satisfied: regex!=2019.12.17 in /usr/local/lib/python3.10/dist-packages (from diffusers->nnsight<0.3.0,>=0.2.19->lczerolens==0.2.0.dev0) (2024.5.15)\n",
            "Requirement already satisfied: MarkupSafe>=2.0 in /usr/local/lib/python3.10/dist-packages (from jinja2->torch>=2->lczerolens==0.2.0.dev0) (2.1.5)\n",
            "Requirement already satisfied: contourpy>=1.0.1 in /usr/local/lib/python3.10/dist-packages (from matplotlib->zennit-crp<0.7.0,>=0.6.0->lczerolens==0.2.0.dev0) (1.2.1)\n",
            "Requirement already satisfied: cycler>=0.10 in /usr/local/lib/python3.10/dist-packages (from matplotlib->zennit-crp<0.7.0,>=0.6.0->lczerolens==0.2.0.dev0) (0.12.1)\n",
            "Requirement already satisfied: fonttools>=4.22.0 in /usr/local/lib/python3.10/dist-packages (from matplotlib->zennit-crp<0.7.0,>=0.6.0->lczerolens==0.2.0.dev0) (4.53.0)\n",
            "Requirement already satisfied: kiwisolver>=1.0.1 in /usr/local/lib/python3.10/dist-packages (from matplotlib->zennit-crp<0.7.0,>=0.6.0->lczerolens==0.2.0.dev0) (1.4.5)\n",
            "Requirement already satisfied: pyparsing>=2.3.1 in /usr/local/lib/python3.10/dist-packages (from matplotlib->zennit-crp<0.7.0,>=0.6.0->lczerolens==0.2.0.dev0) (3.1.2)\n",
            "Requirement already satisfied: python-dateutil>=2.7 in /usr/local/lib/python3.10/dist-packages (from matplotlib->zennit-crp<0.7.0,>=0.6.0->lczerolens==0.2.0.dev0) (2.8.2)\n",
            "Requirement already satisfied: pytz>=2020.1 in /usr/local/lib/python3.10/dist-packages (from pandas->datasets<3.0.0,>=2.19.1->lczerolens==0.2.0.dev0) (2023.4)\n",
            "Requirement already satisfied: tzdata>=2022.1 in /usr/local/lib/python3.10/dist-packages (from pandas->datasets<3.0.0,>=2.19.1->lczerolens==0.2.0.dev0) (2024.1)\n",
            "Requirement already satisfied: bidict>=0.21.0 in /usr/local/lib/python3.10/dist-packages (from python-socketio[client]->nnsight<0.3.0,>=0.2.19->lczerolens==0.2.0.dev0) (0.23.1)\n",
            "Collecting python-engineio>=4.8.0 (from python-socketio[client]->nnsight<0.3.0,>=0.2.19->lczerolens==0.2.0.dev0)\n",
            "  Downloading python_engineio-4.9.1-py3-none-any.whl (57 kB)\n",
            "\u001b[2K     \u001b[90m━━━━━━━━━━━━━━━━━━━━━━━━━━━━━━━━━━━━━━━━\u001b[0m \u001b[32m57.7/57.7 kB\u001b[0m \u001b[31m6.5 MB/s\u001b[0m eta \u001b[36m0:00:00\u001b[0m\n",
            "\u001b[?25hRequirement already satisfied: websocket-client>=0.54.0 in /usr/local/lib/python3.10/dist-packages (from python-socketio[client]->nnsight<0.3.0,>=0.2.19->lczerolens==0.2.0.dev0) (1.8.0)\n",
            "Requirement already satisfied: mpmath<1.4.0,>=1.1.0 in /usr/local/lib/python3.10/dist-packages (from sympy->torch>=2->lczerolens==0.2.0.dev0) (1.3.0)\n",
            "Requirement already satisfied: six>=1.5 in /usr/local/lib/python3.10/dist-packages (from python-dateutil>=2.7->matplotlib->zennit-crp<0.7.0,>=0.6.0->lczerolens==0.2.0.dev0) (1.16.0)\n",
            "Collecting simple-websocket>=0.10.0 (from python-engineio>=4.8.0->python-socketio[client]->nnsight<0.3.0,>=0.2.19->lczerolens==0.2.0.dev0)\n",
            "  Downloading simple_websocket-1.0.0-py3-none-any.whl (13 kB)\n",
            "Requirement already satisfied: zipp>=0.5 in /usr/local/lib/python3.10/dist-packages (from importlib-metadata->diffusers->nnsight<0.3.0,>=0.2.19->lczerolens==0.2.0.dev0) (3.19.2)\n",
            "Collecting wsproto (from simple-websocket>=0.10.0->python-engineio>=4.8.0->python-socketio[client]->nnsight<0.3.0,>=0.2.19->lczerolens==0.2.0.dev0)\n",
            "  Downloading wsproto-1.2.0-py3-none-any.whl (24 kB)\n",
            "Collecting h11<1,>=0.9.0 (from wsproto->simple-websocket>=0.10.0->python-engineio>=4.8.0->python-socketio[client]->nnsight<0.3.0,>=0.2.19->lczerolens==0.2.0.dev0)\n",
            "  Downloading h11-0.14.0-py3-none-any.whl (58 kB)\n",
            "\u001b[2K     \u001b[90m━━━━━━━━━━━━━━━━━━━━━━━━━━━━━━━━━━━━━━━━\u001b[0m \u001b[32m58.3/58.3 kB\u001b[0m \u001b[31m6.7 MB/s\u001b[0m eta \u001b[36m0:00:00\u001b[0m\n",
            "\u001b[?25hBuilding wheels for collected packages: lczerolens\n",
            "  Building wheel for lczerolens (pyproject.toml) ... \u001b[?25l\u001b[?25hdone\n",
            "  Created wheel for lczerolens: filename=lczerolens-0.2.0.dev0-py3-none-any.whl size=32391 sha256=096389d5c07b1fdff47564704df992f7cad6251124b0951fbb01dec38f06a32f\n",
            "  Stored in directory: /tmp/pip-ephem-wheel-cache-clia5p0m/wheels/fb/65/32/00089cd9c23261bc3f1b4f016cf313a1f935cb2c1ef84ae773\n",
            "Successfully built lczerolens\n",
            "Installing collected packages: xxhash, triton, requests, pyarrow, onnx, nvidia-nvtx-cu12, nvidia-nvjitlink-cu12, nvidia-nccl-cu12, nvidia-curand-cu12, nvidia-cufft-cu12, nvidia-cuda-runtime-cu12, nvidia-cuda-nvrtc-cu12, nvidia-cuda-cupti-cu12, nvidia-cublas-cu12, jsonlines, h11, einops, dill, chess, wsproto, scikit-learn, python-chess, nvidia-cusparse-cu12, nvidia-cudnn-cu12, multiprocess, simple-websocket, nvidia-cusolver-cu12, diffusers, torch, python-engineio, datasets, torchvision, tensordict, python-socketio, accelerate, zennit, onnx2torch, zennit-crp, nnsight, lczerolens\n",
            "  Attempting uninstall: triton\n",
            "    Found existing installation: triton 2.3.0\n",
            "    Uninstalling triton-2.3.0:\n",
            "      Successfully uninstalled triton-2.3.0\n",
            "  Attempting uninstall: requests\n",
            "    Found existing installation: requests 2.31.0\n",
            "    Uninstalling requests-2.31.0:\n",
            "      Successfully uninstalled requests-2.31.0\n",
            "  Attempting uninstall: pyarrow\n",
            "    Found existing installation: pyarrow 14.0.2\n",
            "    Uninstalling pyarrow-14.0.2:\n",
            "      Successfully uninstalled pyarrow-14.0.2\n",
            "  Attempting uninstall: scikit-learn\n",
            "    Found existing installation: scikit-learn 1.2.2\n",
            "    Uninstalling scikit-learn-1.2.2:\n",
            "      Successfully uninstalled scikit-learn-1.2.2\n",
            "  Attempting uninstall: torch\n",
            "    Found existing installation: torch 2.3.0+cu121\n",
            "    Uninstalling torch-2.3.0+cu121:\n",
            "      Successfully uninstalled torch-2.3.0+cu121\n",
            "  Attempting uninstall: torchvision\n",
            "    Found existing installation: torchvision 0.18.0+cu121\n",
            "    Uninstalling torchvision-0.18.0+cu121:\n",
            "      Successfully uninstalled torchvision-0.18.0+cu121\n",
            "\u001b[31mERROR: pip's dependency resolver does not currently take into account all the packages that are installed. This behaviour is the source of the following dependency conflicts.\n",
            "cudf-cu12 24.4.1 requires pyarrow<15.0.0a0,>=14.0.1, but you have pyarrow 16.1.0 which is incompatible.\n",
            "google-colab 1.0.0 requires requests==2.31.0, but you have requests 2.32.3 which is incompatible.\n",
            "ibis-framework 8.0.0 requires pyarrow<16,>=2, but you have pyarrow 16.1.0 which is incompatible.\n",
            "torchaudio 2.3.0+cu121 requires torch==2.3.0, but you have torch 2.2.2 which is incompatible.\n",
            "torchtext 0.18.0 requires torch>=2.3.0, but you have torch 2.2.2 which is incompatible.\u001b[0m\u001b[31m\n",
            "\u001b[0mSuccessfully installed accelerate-0.31.0 chess-1.10.0 datasets-2.20.0 diffusers-0.29.2 dill-0.3.8 einops-0.7.0 h11-0.14.0 jsonlines-4.0.0 lczerolens-0.2.0.dev0 multiprocess-0.70.16 nnsight-0.2.19 nvidia-cublas-cu12-12.1.3.1 nvidia-cuda-cupti-cu12-12.1.105 nvidia-cuda-nvrtc-cu12-12.1.105 nvidia-cuda-runtime-cu12-12.1.105 nvidia-cudnn-cu12-8.9.2.26 nvidia-cufft-cu12-11.0.2.54 nvidia-curand-cu12-10.3.2.106 nvidia-cusolver-cu12-11.4.5.107 nvidia-cusparse-cu12-12.1.0.106 nvidia-nccl-cu12-2.19.3 nvidia-nvjitlink-cu12-12.5.82 nvidia-nvtx-cu12-12.1.105 onnx-1.16.1 onnx2torch-1.5.14 pyarrow-16.1.0 python-chess-1.999 python-engineio-4.9.1 python-socketio-5.11.3 requests-2.32.3 scikit-learn-1.5.1 simple-websocket-1.0.0 tensordict-0.3.2 torch-2.2.2 torchvision-0.17.2 triton-2.2.0 wsproto-1.2.0 xxhash-3.4.1 zennit-0.4.6 zennit-crp-0.6.0\n"
          ]
        }
      ],
      "source": [
        "if DEV:\n",
        "    !pip install -q git+https://github.com/Xmaster6y/lczerolens@docs\n",
        "else:\n",
        "    !pip install -q lczerolens"
      ]
    },
    {
      "cell_type": "code",
      "execution_count": 3,
      "metadata": {
        "colab": {
          "base_uri": "https://localhost:8080/"
        },
        "id": "_GdhCPhtyoj3",
        "outputId": "c101f3cf-63c2-43b0-eb70-a2f979793e58"
      },
      "outputs": [
        {
          "name": "stdout",
          "output_type": "stream",
          "text": [
            "Downloading...\n",
            "From: https://drive.google.com/uc?id=1erxB3tULDURjpPhiPWVGr6X986Q8uE6U\n",
            "To: /content/leela-network.pb.gz\n",
            "\r  0% 0.00/1.31M [00:00<?, ?B/s]\r100% 1.31M/1.31M [00:00<00:00, 108MB/s]\n"
          ]
        }
      ],
      "source": [
        "!gdown 1erxB3tULDURjpPhiPWVGr6X986Q8uE6U -O leela-network.pb.gz"
      ]
    },
    {
      "cell_type": "markdown",
      "metadata": {
        "id": "KjLtlNV95WWx"
      },
      "source": [
        "To convert a network you'll need to have installed the `lc0` binaries:"
      ]
    },
    {
      "cell_type": "code",
      "execution_count": 4,
      "metadata": {
        "colab": {
          "base_uri": "https://localhost:8080/"
        },
        "id": "IuQ4hpbv5Z-o",
        "outputId": "5199ea80-f54f-4254-e872-c016a24de00a"
      },
      "outputs": [
        {
          "name": "stdout",
          "output_type": "stream",
          "text": [
            "Collecting git+https://github.com/LeelaChessZero/lc0\n",
            "  Cloning https://github.com/LeelaChessZero/lc0 to /tmp/pip-req-build-_0vkz6kf\n",
            "  Running command git clone --filter=blob:none --quiet https://github.com/LeelaChessZero/lc0 /tmp/pip-req-build-_0vkz6kf\n",
            "  Resolved https://github.com/LeelaChessZero/lc0 to commit 51f93b7c49720ee100d24aac54193a88ba98219a\n",
            "  Running command git submodule update --init --recursive -q\n",
            "  Installing build dependencies ... \u001b[?25l\u001b[?25hdone\n",
            "  Getting requirements to build wheel ... \u001b[?25l\u001b[?25hdone\n",
            "  Installing backend dependencies ... \u001b[?25l\u001b[?25hdone\n",
            "  Preparing metadata (pyproject.toml) ... \u001b[?25l\u001b[?25hdone\n",
            "Building wheels for collected packages: lczero_bindings\n",
            "  Building wheel for lczero_bindings (pyproject.toml) ... \u001b[?25l\u001b[?25hdone\n",
            "  Created wheel for lczero_bindings: filename=lczero_bindings-0.1.0-cp310-cp310-linux_x86_64.whl size=5465618 sha256=4e65481b612ca6543e26dd2e7259037b94224352fb9526e15ec56a638cad6c74\n",
            "  Stored in directory: /tmp/pip-ephem-wheel-cache-tufn3yzh/wheels/1d/ad/9d/0dde4d9dc874a906db3c25bad45eb59e70ab9ada7d189f6b40\n",
            "Successfully built lczero_bindings\n",
            "Installing collected packages: lczero_bindings\n",
            "Successfully installed lczero_bindings-0.1.0\n"
          ]
        }
      ],
      "source": [
        "!pip install -q git+https://github.com/LeelaChessZero/lc0"
      ]
    },
    {
      "cell_type": "markdown",
      "metadata": {
        "id": "AM3K3PCgx8g0"
      },
      "source": [
        "## Convert a Model\n",
        "\n",
        "You can convert networks to `onnx` using the official `lc0` binaries or\n",
        "by using the `backends` module:"
      ]
    },
    {
      "cell_type": "code",
      "execution_count": 5,
      "metadata": {
        "colab": {
          "base_uri": "https://localhost:8080/",
          "height": 120
        },
        "id": "f-6vcmwEyb7n",
        "outputId": "ce579e19-cad5-446d-e8b2-e37751f606fc"
      },
      "outputs": [
        {
          "data": {
            "application/vnd.google.colaboratory.intrinsic+json": {
              "type": "string"
            },
            "text/plain": [
              "'\\nFormat\\n~~~~~~\\n            Weights encoding: LINEAR16\\n                       Input: INPUT_CLASSICAL_112_PLANE\\n                     Network: NETWORK_SE_WITH_HEADFORMAT\\n                      Policy: POLICY_CONVOLUTION\\n                       Value: VALUE_WDL\\n\\nWeights\\n~~~~~~~\\n                      Blocks: 6\\n                   SE blocks: 6\\n                     Filters: 64\\n                      Policy: Convolution\\n           Policy activation: ACTIVATION_DEFAULT\\n                       Value: WDL\\n                         MLH: Absent\\nConverting Leela network to the ONNX.\\n\\nONNX interface\\n~~~~~~~~~~~~~~\\n                   Data type: FLOAT\\n                Input planes: /input/planes\\n                  Output WDL: /output/wdl\\n               Output Policy: /output/policy\\nDone.\\n'"
            ]
          },
          "execution_count": 5,
          "metadata": {},
          "output_type": "execute_result"
        }
      ],
      "source": [
        "from lczerolens.encodings import backends\n",
        "\n",
        "backends.convert_to_onnx(\n",
        "    \"leela-network.pb.gz\",\n",
        "    \"leela-network.onnx\"\n",
        ")"
      ]
    },
    {
      "cell_type": "markdown",
      "metadata": {
        "id": "P3RrLQHF5qkI"
      },
      "source": [
        "See [Move Prediction](move-prediction.ipynb) to see how to use the converted network."
      ]
    },
    {
      "cell_type": "markdown",
      "metadata": {
        "id": "qBzY4spb5nGg"
      },
      "source": [
        "## Note\n",
        "\n",
        "Only the latest networks are supported. To build older weights, you should build the associated binaries."
      ]
    }
  ],
  "metadata": {
    "colab": {
      "provenance": []
    },
    "kernelspec": {
      "display_name": "Python 3",
      "name": "python3"
    },
    "language_info": {
      "name": "python"
    }
  },
  "nbformat": 4,
  "nbformat_minor": 0
}
