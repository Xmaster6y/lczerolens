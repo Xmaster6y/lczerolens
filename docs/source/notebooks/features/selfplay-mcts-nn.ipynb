{
 "cells": [
  {
   "cell_type": "markdown",
   "id": "8f6ef0c2",
   "metadata": {},
   "source": [
    "# Demo notebook : SelfPlay with ONNX models"
   ]
  },
  {
   "cell_type": "markdown",
   "id": "9b12a733",
   "metadata": {},
   "source": [
    "## Setup"
   ]
  },
  {
   "cell_type": "code",
   "execution_count": 175,
   "id": "ba3f6a05",
   "metadata": {},
   "outputs": [],
   "source": [
    "MODE = \"local\"  # \"colab\" | \"colab-dev\" | \"local\""
   ]
  },
  {
   "cell_type": "code",
   "execution_count": 176,
   "id": "6821dd2a",
   "metadata": {},
   "outputs": [],
   "source": [
    "if MODE == \"colab\":\n",
    "    !pip install -q lczerolens\n",
    "elif MODE == \"colab-dev\":\n",
    "    !rm -r lczerolens\n",
    "    !git clone https://github.com/Xmaster6y/lczerolens -b main\n",
    "    !pip install -q ./lczerolens"
   ]
  },
  {
   "cell_type": "markdown",
   "id": "54db4aea",
   "metadata": {},
   "source": [
    "## Download ONNX Models"
   ]
  },
  {
   "cell_type": "code",
   "execution_count": 177,
   "id": "d92fedb4",
   "metadata": {},
   "outputs": [
    {
     "name": "stdout",
     "output_type": "stream",
     "text": [
      "Downloading...\n",
      "From: https://drive.google.com/uc?id=1yw2jzcdrGk3ao-nbVl42VUmCUF-6spfO\n",
      "To: /mnt/d/Documents/0Polytech Sorbonne/MAIN/MAIN3/StageLip6/lczerolens/docs/source/notebooks/features/maia1100.onnx\n",
      "100%|██████████████████████████████████████| 3.48M/3.48M [00:00<00:00, 35.5MB/s]\n",
      "Downloading...\n",
      "From: https://drive.google.com/uc?id=1BFTmWwhILhAF4PJ2F3L15Fi5LPomCGFl\n",
      "To: /mnt/d/Documents/0Polytech Sorbonne/MAIN/MAIN3/StageLip6/lczerolens/docs/source/notebooks/features/maia1900.onnx\n",
      "100%|██████████████████████████████████████| 3.48M/3.48M [00:00<00:00, 37.2MB/s]\n"
     ]
    }
   ],
   "source": [
    "!gdown 1yw2jzcdrGk3ao-nbVl42VUmCUF-6spfO -O maia1100.onnx\n",
    "!gdown 1BFTmWwhILhAF4PJ2F3L15Fi5LPomCGFl -O maia1900.onnx"
   ]
  },
  {
   "cell_type": "markdown",
   "id": "e640837e",
   "metadata": {},
   "source": [
    "## Import Libraries"
   ]
  },
  {
   "cell_type": "code",
   "execution_count": 178,
   "id": "baa27531",
   "metadata": {},
   "outputs": [],
   "source": [
    "from lczerolens import LczeroBoard, LczeroModel\n",
    "from lczerolens.sampling import SelfPlay, ModelSampler"
   ]
  },
  {
   "cell_type": "markdown",
   "id": "f1a5d437",
   "metadata": {},
   "source": [
    "## Load & Setup Model Samplers"
   ]
  },
  {
   "cell_type": "code",
   "execution_count": 179,
   "id": "4d8811bc",
   "metadata": {},
   "outputs": [],
   "source": [
    "maia_1100_model = LczeroModel.from_path(\"maia1100.onnx\")\n",
    "maia_1900_model = LczeroModel.from_path(\"maia1900.onnx\")\n",
    "white_sampler = ModelSampler(model=maia_1100_model, use_argmax=False)\n",
    "black_sampler = ModelSampler(model=maia_1900_model, use_argmax=False)"
   ]
  },
  {
   "cell_type": "markdown",
   "id": "7a08d2b4",
   "metadata": {},
   "source": [
    "## Initialize SelfPlay"
   ]
  },
  {
   "cell_type": "code",
   "execution_count": 180,
   "id": "39088a3e",
   "metadata": {},
   "outputs": [],
   "source": [
    "self_play = SelfPlay(white=white_sampler, black=black_sampler)\n",
    "logs = []\n",
    "\n",
    "\n",
    "def report_fn(log, to_play):\n",
    "    logs.append((log, to_play))"
   ]
  },
  {
   "cell_type": "markdown",
   "id": "63bf0c68",
   "metadata": {},
   "source": [
    "## Play Game"
   ]
  },
  {
   "cell_type": "code",
   "execution_count": 181,
   "id": "aea38a01",
   "metadata": {},
   "outputs": [],
   "source": [
    "board = LczeroBoard()\n",
    "\n",
    "game_moves, final_board = self_play.play(board=board, max_moves=100, report_fn=report_fn)"
   ]
  },
  {
   "cell_type": "markdown",
   "id": "24a85351",
   "metadata": {},
   "source": [
    "## Display Results"
   ]
  },
  {
   "cell_type": "code",
   "execution_count": 182,
   "id": "caf9892b",
   "metadata": {},
   "outputs": [
    {
     "name": "stdout",
     "output_type": "stream",
     "text": [
      "Game moves: [Move.from_uci('e2e4'), Move.from_uci('c7c5'), Move.from_uci('d1f3'), Move.from_uci('b8c6'), Move.from_uci('f1c4'), Move.from_uci('d7d6'), Move.from_uci('f3f7'), Move.from_uci('e8d7'), Move.from_uci('c4e6'), Move.from_uci('d7c7'), Move.from_uci('e6d5'), Move.from_uci('g8f6'), Move.from_uci('b1c3'), Move.from_uci('c6b4'), Move.from_uci('c3b5'), Move.from_uci('c7b8'), Move.from_uci('d5b3'), Move.from_uci('e7e5'), Move.from_uci('f7e6'), Move.from_uci('c8e6'), Move.from_uci('b3e6'), Move.from_uci('a7a6'), Move.from_uci('b5a3'), Move.from_uci('f6e4'), Move.from_uci('d2d3'), Move.from_uci('d8a5'), Move.from_uci('d3e4'), Move.from_uci('b4c2'), Move.from_uci('e1d1'), Move.from_uci('c2a3'), Move.from_uci('b2a3'), Move.from_uci('a5c3'), Move.from_uci('a1b1'), Move.from_uci('b8c7'), Move.from_uci('g1e2'), Move.from_uci('c3d3'), Move.from_uci('d1e1'), Move.from_uci('d3b1'), Move.from_uci('e2c3'), Move.from_uci('b1c1'), Move.from_uci('e1e2'), Move.from_uci('c1b2'), Move.from_uci('e2d3'), Move.from_uci('b2a3'), Move.from_uci('d3c4'), Move.from_uci('b7b5'), Move.from_uci('c4d5'), Move.from_uci('c7b7'), Move.from_uci('c3e2'), Move.from_uci('a3a2')]\n",
      "Game result: 0-1\n"
     ]
    }
   ],
   "source": [
    "print(\"Game moves:\", game_moves)\n",
    "print(\"Game result:\", final_board.result())"
   ]
  }
 ],
 "metadata": {
  "kernelspec": {
   "display_name": "lczerolens (3.11.10)",
   "language": "python",
   "name": "python3"
  },
  "language_info": {
   "codemirror_mode": {
    "name": "ipython",
    "version": 3
   },
   "file_extension": ".py",
   "mimetype": "text/x-python",
   "name": "python",
   "nbconvert_exporter": "python",
   "pygments_lexer": "ipython3",
   "version": "3.11.10"
  }
 },
 "nbformat": 4,
 "nbformat_minor": 5
}
