{
 "cells": [
  {
   "cell_type": "markdown",
   "id": "8f6ef0c2",
   "metadata": {},
   "source": [
    "# Demo notebook : SelfPlay with ONNX models"
   ]
  },
  {
   "cell_type": "markdown",
   "id": "9b12a733",
   "metadata": {},
   "source": [
    "## Setup"
   ]
  },
  {
   "cell_type": "code",
   "execution_count": 297,
   "id": "ba3f6a05",
   "metadata": {},
   "outputs": [],
   "source": [
    "MODE = \"local\"  # \"colab\" | \"colab-dev\" | \"local\""
   ]
  },
  {
   "cell_type": "code",
   "execution_count": 298,
   "id": "6821dd2a",
   "metadata": {},
   "outputs": [],
   "source": [
    "if MODE == \"colab\":\n",
    "    !pip install -q lczerolens\n",
    "elif MODE == \"colab-dev\":\n",
    "    !rm -r lczerolens\n",
    "    !git clone https://github.com/Xmaster6y/lczerolens -b main\n",
    "    !pip install -q ./lczerolens"
   ]
  },
  {
   "cell_type": "markdown",
   "id": "54db4aea",
   "metadata": {},
   "source": [
    "## Download ONNX Models"
   ]
  },
  {
   "cell_type": "code",
   "execution_count": 299,
   "id": "d92fedb4",
   "metadata": {},
   "outputs": [
    {
     "name": "stdout",
     "output_type": "stream",
     "text": [
      "Downloading...\n",
      "From: https://drive.google.com/uc?id=1yw2jzcdrGk3ao-nbVl42VUmCUF-6spfO\n",
      "To: /mnt/d/Documents/0Polytech Sorbonne/MAIN/MAIN3/StageLip6/lczerolens/docs/source/notebooks/features/maia1100.onnx\n",
      "100%|██████████████████████████████████████| 3.48M/3.48M [00:00<00:00, 37.5MB/s]\n",
      "Downloading...\n",
      "From: https://drive.google.com/uc?id=1BFTmWwhILhAF4PJ2F3L15Fi5LPomCGFl\n",
      "To: /mnt/d/Documents/0Polytech Sorbonne/MAIN/MAIN3/StageLip6/lczerolens/docs/source/notebooks/features/maia1900.onnx\n",
      "100%|██████████████████████████████████████| 3.48M/3.48M [00:00<00:00, 30.4MB/s]\n"
     ]
    }
   ],
   "source": [
    "!gdown 1yw2jzcdrGk3ao-nbVl42VUmCUF-6spfO -O maia1100.onnx\n",
    "!gdown 1BFTmWwhILhAF4PJ2F3L15Fi5LPomCGFl -O maia1900.onnx"
   ]
  },
  {
   "cell_type": "markdown",
   "id": "e640837e",
   "metadata": {},
   "source": [
    "## Import Libraries"
   ]
  },
  {
   "cell_type": "code",
   "execution_count": 300,
   "id": "baa27531",
   "metadata": {},
   "outputs": [],
   "source": [
    "# ruff: noqa: E402\n",
    "import importlib\n",
    "import lczerolens.sampling as sampling\n",
    "import lczerolens.search as search\n",
    "import numpy as np\n",
    "\n",
    "for module in (sampling, search):\n",
    "    importlib.reload(module)\n",
    "\n",
    "from lczerolens import LczeroBoard, LczeroModel\n",
    "from lczerolens.sampling import MCTSSampler, ModelSampler, SelfPlay\n",
    "from lczerolens.search import MaterialHeuristic, MCTS, Node"
   ]
  },
  {
   "cell_type": "markdown",
   "id": "21d5fca8",
   "metadata": {},
   "source": [
    "# 1. SelfPlay (MCTS + NN) Maia1100 VS Maia1900"
   ]
  },
  {
   "cell_type": "markdown",
   "id": "f1a5d437",
   "metadata": {},
   "source": [
    "## Load & Setup Model Samplers"
   ]
  },
  {
   "cell_type": "code",
   "execution_count": 301,
   "id": "4d8811bc",
   "metadata": {},
   "outputs": [],
   "source": [
    "maia_1100_model = LczeroModel.from_path(\"maia1100.onnx\")\n",
    "maia_1900_model = LczeroModel.from_path(\"maia1900.onnx\")\n",
    "white_sampler = MCTSSampler(model=maia_1100_model, num_simulations=100, use_argmax=True)\n",
    "black_sampler = ModelSampler(model=maia_1900_model, use_argmax=True)"
   ]
  },
  {
   "cell_type": "markdown",
   "id": "7a08d2b4",
   "metadata": {},
   "source": [
    "## Initialize SelfPlay"
   ]
  },
  {
   "cell_type": "code",
   "execution_count": 302,
   "id": "39088a3e",
   "metadata": {},
   "outputs": [],
   "source": [
    "self_play = SelfPlay(white=white_sampler, black=black_sampler)\n",
    "logs = []\n",
    "\n",
    "\n",
    "def report_fn(log, to_play):\n",
    "    logs.append((log, to_play))"
   ]
  },
  {
   "cell_type": "markdown",
   "id": "63bf0c68",
   "metadata": {},
   "source": [
    "## Play Game"
   ]
  },
  {
   "cell_type": "code",
   "execution_count": 303,
   "id": "aea38a01",
   "metadata": {},
   "outputs": [],
   "source": [
    "board = LczeroBoard()\n",
    "\n",
    "game_moves, final_board = self_play.play(board=board, max_moves=10, report_fn=report_fn)"
   ]
  },
  {
   "cell_type": "markdown",
   "id": "24a85351",
   "metadata": {},
   "source": [
    "## Display Results"
   ]
  },
  {
   "cell_type": "code",
   "execution_count": 304,
   "id": "caf9892b",
   "metadata": {},
   "outputs": [
    {
     "name": "stdout",
     "output_type": "stream",
     "text": [
      "Game moves: [Move.from_uci('e2e4'), Move.from_uci('c7c5'), Move.from_uci('g1f3'), Move.from_uci('d7d6'), Move.from_uci('f1c4'), Move.from_uci('e7e6'), Move.from_uci('b1c3'), Move.from_uci('g8f6'), Move.from_uci('d2d3'), Move.from_uci('f8e7')]\n",
      "Game result: *\n"
     ]
    }
   ],
   "source": [
    "print(\"Game moves:\", game_moves)\n",
    "print(\"Game result:\", final_board.result())"
   ]
  },
  {
   "cell_type": "markdown",
   "id": "561d0aea",
   "metadata": {},
   "source": [
    "# 2. Test heuristic : Material advantage"
   ]
  },
  {
   "cell_type": "code",
   "execution_count": 305,
   "id": "aa0d05c8",
   "metadata": {},
   "outputs": [],
   "source": [
    "fen = \"6nr/pp3p1p/k1p5/8/1QN5/2P1P3/4KPqP/8 b - - 5 26\"\n",
    "iterations = 100\n",
    "c_puct = 1.0\n",
    "n_parallel_rollouts = 1"
   ]
  },
  {
   "cell_type": "code",
   "execution_count": 306,
   "id": "6f706752",
   "metadata": {},
   "outputs": [],
   "source": [
    "board = LczeroBoard(fen)\n",
    "heuristic = MaterialHeuristic()\n",
    "mcts = MCTS(c_puct=c_puct, n_parallel_rollouts=n_parallel_rollouts)\n",
    "root = Node(board, parent=None)"
   ]
  },
  {
   "cell_type": "code",
   "execution_count": 307,
   "id": "c2cab503",
   "metadata": {},
   "outputs": [
    {
     "name": "stdout",
     "output_type": "stream",
     "text": [
      "Best move : g8e7\n"
     ]
    }
   ],
   "source": [
    "mcts.search_(root, heuristic=heuristic, iterations=iterations)\n",
    "best_move_idx = np.argmax(root.visits)\n",
    "best_move = root.legal_moves[best_move_idx].uci()\n",
    "print(\"Best move :\", best_move)"
   ]
  },
  {
   "cell_type": "code",
   "execution_count": 308,
   "id": "91813e9b",
   "metadata": {},
   "outputs": [
    {
     "ename": "ImportError",
     "evalue": "graphviz is required to render trees, install it with `pip install lczerolens[viz]`.",
     "output_type": "error",
     "traceback": [
      "\u001b[0;31m---------------------------------------------------------------------------\u001b[0m",
      "\u001b[0;31mModuleNotFoundError\u001b[0m                       Traceback (most recent call last)",
      "File \u001b[0;32m/mnt/d/Documents/0Polytech Sorbonne/MAIN/MAIN3/StageLip6/lczerolens/src/lczerolens/search.py:332\u001b[0m, in \u001b[0;36mMCTS.render_tree\u001b[0;34m(root, max_depth, save_to)\u001b[0m\n\u001b[1;32m    331\u001b[0m \u001b[38;5;28;01mtry\u001b[39;00m:\n\u001b[0;32m--> 332\u001b[0m     \u001b[38;5;28;01mfrom\u001b[39;00m\u001b[38;5;250m \u001b[39m\u001b[38;5;21;01mgraphviz\u001b[39;00m\u001b[38;5;250m \u001b[39m\u001b[38;5;28;01mimport\u001b[39;00m Digraph\n\u001b[1;32m    333\u001b[0m \u001b[38;5;28;01mexcept\u001b[39;00m \u001b[38;5;167;01mImportError\u001b[39;00m \u001b[38;5;28;01mas\u001b[39;00m e:\n",
      "\u001b[0;31mModuleNotFoundError\u001b[0m: No module named 'graphviz'",
      "\nThe above exception was the direct cause of the following exception:\n",
      "\u001b[0;31mImportError\u001b[0m                               Traceback (most recent call last)",
      "Cell \u001b[0;32mIn[308], line 1\u001b[0m\n\u001b[0;32m----> 1\u001b[0m \u001b[43mMCTS\u001b[49m\u001b[38;5;241;43m.\u001b[39;49m\u001b[43mrender_tree\u001b[49m\u001b[43m(\u001b[49m\u001b[43mroot\u001b[49m\u001b[43m,\u001b[49m\u001b[43m \u001b[49m\u001b[43mmax_depth\u001b[49m\u001b[38;5;241;43m=\u001b[39;49m\u001b[38;5;241;43m30\u001b[39;49m\u001b[43m,\u001b[49m\u001b[43m \u001b[49m\u001b[43msave_to\u001b[49m\u001b[38;5;241;43m=\u001b[39;49m\u001b[38;5;124;43m\"\u001b[39;49m\u001b[38;5;124;43m./results/mcts_tree\u001b[39;49m\u001b[38;5;124;43m\"\u001b[39;49m\u001b[43m)\u001b[49m\n",
      "File \u001b[0;32m/mnt/d/Documents/0Polytech Sorbonne/MAIN/MAIN3/StageLip6/lczerolens/src/lczerolens/search.py:334\u001b[0m, in \u001b[0;36mMCTS.render_tree\u001b[0;34m(root, max_depth, save_to)\u001b[0m\n\u001b[1;32m    332\u001b[0m     \u001b[38;5;28;01mfrom\u001b[39;00m\u001b[38;5;250m \u001b[39m\u001b[38;5;21;01mgraphviz\u001b[39;00m\u001b[38;5;250m \u001b[39m\u001b[38;5;28;01mimport\u001b[39;00m Digraph\n\u001b[1;32m    333\u001b[0m \u001b[38;5;28;01mexcept\u001b[39;00m \u001b[38;5;167;01mImportError\u001b[39;00m \u001b[38;5;28;01mas\u001b[39;00m e:\n\u001b[0;32m--> 334\u001b[0m     \u001b[38;5;28;01mraise\u001b[39;00m \u001b[38;5;167;01mImportError\u001b[39;00m(\n\u001b[1;32m    335\u001b[0m         \u001b[38;5;124m\"\u001b[39m\u001b[38;5;124mgraphviz is required to render trees, install it with `pip install lczerolens[viz]`.\u001b[39m\u001b[38;5;124m\"\u001b[39m\n\u001b[1;32m    336\u001b[0m     ) \u001b[38;5;28;01mfrom\u001b[39;00m\u001b[38;5;250m \u001b[39m\u001b[38;5;21;01me\u001b[39;00m\n\u001b[1;32m    338\u001b[0m dot \u001b[38;5;241m=\u001b[39m Digraph(comment\u001b[38;5;241m=\u001b[39m\u001b[38;5;124m\"\u001b[39m\u001b[38;5;124mMCTS Tree\u001b[39m\u001b[38;5;124m\"\u001b[39m)\n\u001b[1;32m    339\u001b[0m dot\u001b[38;5;241m.\u001b[39mattr(\u001b[38;5;124m\"\u001b[39m\u001b[38;5;124mnode\u001b[39m\u001b[38;5;124m\"\u001b[39m, shape\u001b[38;5;241m=\u001b[39m\u001b[38;5;124m\"\u001b[39m\u001b[38;5;124mcircle\u001b[39m\u001b[38;5;124m\"\u001b[39m)\n",
      "\u001b[0;31mImportError\u001b[0m: graphviz is required to render trees, install it with `pip install lczerolens[viz]`."
     ]
    }
   ],
   "source": [
    "MCTS.render_tree(root, max_depth=30, save_to=\"./results/mcts_tree\")"
   ]
  },
  {
   "cell_type": "markdown",
   "id": "37888405",
   "metadata": {},
   "source": [
    "# SelfPlay : Chose both heuristic to make play one against another"
   ]
  },
  {
   "cell_type": "markdown",
   "id": "7e9479f8",
   "metadata": {},
   "source": [
    "## Load & Setup Model Samplers"
   ]
  },
  {
   "cell_type": "code",
   "execution_count": null,
   "id": "28d6e968",
   "metadata": {},
   "outputs": [],
   "source": [
    "# white_sampler = MaterialSampler(heuristic=MaterialHeuristic(), use_argmax=False)\n",
    "# black_sampler = MaterialSampler(heuristic=MaterialHeuristic(), use_argmax=False)"
   ]
  },
  {
   "cell_type": "markdown",
   "id": "0914f251",
   "metadata": {},
   "source": [
    "## Initialize SelfPlay"
   ]
  },
  {
   "cell_type": "code",
   "execution_count": null,
   "id": "0a5f7129",
   "metadata": {},
   "outputs": [],
   "source": [
    "# self_play = SelfPlay(white=white_sampler, black=black_sampler)\n",
    "# logs = []\n",
    "\n",
    "\n",
    "# def report_fn(log, to_play):\n",
    "#     logs.append((log, to_play))"
   ]
  },
  {
   "cell_type": "markdown",
   "id": "02e31027",
   "metadata": {},
   "source": [
    "## Play Game"
   ]
  },
  {
   "cell_type": "code",
   "execution_count": null,
   "id": "4b5e3d54",
   "metadata": {},
   "outputs": [],
   "source": [
    "# board = LczeroBoard()\n",
    "\n",
    "# game_moves, final_board = self_play.play(board=board, max_moves=100, report_fn=report_fn)"
   ]
  },
  {
   "cell_type": "markdown",
   "id": "195799eb",
   "metadata": {},
   "source": [
    "## Display Results"
   ]
  },
  {
   "cell_type": "code",
   "execution_count": null,
   "id": "d00e183b",
   "metadata": {},
   "outputs": [],
   "source": [
    "# print(\"Game moves:\", game_moves)\n",
    "# print(\"Game result:\", final_board.result())"
   ]
  }
 ],
 "metadata": {
  "kernelspec": {
   "display_name": "lczerolens (3.11.10)",
   "language": "python",
   "name": "python3"
  },
  "language_info": {
   "codemirror_mode": {
    "name": "ipython",
    "version": 3
   },
   "file_extension": ".py",
   "mimetype": "text/x-python",
   "name": "python",
   "nbconvert_exporter": "python",
   "pygments_lexer": "ipython3",
   "version": "3.11.10"
  }
 },
 "nbformat": 4,
 "nbformat_minor": 5
}
