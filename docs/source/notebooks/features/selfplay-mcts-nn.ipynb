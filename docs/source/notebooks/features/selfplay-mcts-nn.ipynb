{
 "cells": [
  {
   "cell_type": "markdown",
   "id": "8f6ef0c2",
   "metadata": {},
   "source": [
    "# Demo notebook : SelfPlay with ONNX models"
   ]
  },
  {
   "cell_type": "markdown",
   "id": "9b12a733",
   "metadata": {},
   "source": [
    "## Setup"
   ]
  },
  {
   "cell_type": "code",
   "execution_count": 79,
   "id": "ba3f6a05",
   "metadata": {},
   "outputs": [],
   "source": [
    "MODE = \"local\"  # \"colab\" | \"colab-dev\" | \"local\""
   ]
  },
  {
   "cell_type": "code",
   "execution_count": 80,
   "id": "6821dd2a",
   "metadata": {},
   "outputs": [],
   "source": [
    "if MODE == \"colab\":\n",
    "    !pip install -q lczerolens\n",
    "elif MODE == \"colab-dev\":\n",
    "    !rm -r lczerolens\n",
    "    !git clone https://github.com/Xmaster6y/lczerolens -b main\n",
    "    !pip install -q ./lczerolens"
   ]
  },
  {
   "cell_type": "markdown",
   "id": "54db4aea",
   "metadata": {},
   "source": [
    "## Download ONNX Models"
   ]
  },
  {
   "cell_type": "code",
   "execution_count": 81,
   "id": "d92fedb4",
   "metadata": {},
   "outputs": [
    {
     "name": "stdout",
     "output_type": "stream",
     "text": [
      "Downloading...\n",
      "From: https://drive.google.com/uc?id=1yw2jzcdrGk3ao-nbVl42VUmCUF-6spfO\n",
      "To: /mnt/d/Documents/0Polytech Sorbonne/MAIN/MAIN3/StageLip6/lczerolens/docs/source/notebooks/features/maia1100.onnx\n",
      "100%|██████████████████████████████████████| 3.48M/3.48M [00:00<00:00, 31.6MB/s]\n",
      "Downloading...\n",
      "From: https://drive.google.com/uc?id=1BFTmWwhILhAF4PJ2F3L15Fi5LPomCGFl\n",
      "To: /mnt/d/Documents/0Polytech Sorbonne/MAIN/MAIN3/StageLip6/lczerolens/docs/source/notebooks/features/maia1900.onnx\n",
      "100%|██████████████████████████████████████| 3.48M/3.48M [00:00<00:00, 34.1MB/s]\n"
     ]
    }
   ],
   "source": [
    "!gdown 1yw2jzcdrGk3ao-nbVl42VUmCUF-6spfO -O maia1100.onnx\n",
    "!gdown 1BFTmWwhILhAF4PJ2F3L15Fi5LPomCGFl -O maia1900.onnx"
   ]
  },
  {
   "cell_type": "markdown",
   "id": "e640837e",
   "metadata": {},
   "source": [
    "## Import Libraries"
   ]
  },
  {
   "cell_type": "code",
   "execution_count": 82,
   "id": "baa27531",
   "metadata": {},
   "outputs": [],
   "source": [
    "from lczerolens import LczeroBoard, LczeroModel\n",
    "from lczerolens.sampling import SelfPlay, ModelSampler, MCTSSampler\n",
    "\n",
    "import importlib\n",
    "import lczerolens.sampling as sampling\n",
    "import lczerolens.search as search\n",
    "\n",
    "for module in (sampling, search):\n",
    "    importlib.reload(module)"
   ]
  },
  {
   "cell_type": "markdown",
   "id": "f1a5d437",
   "metadata": {},
   "source": [
    "## Load & Setup Model Samplers"
   ]
  },
  {
   "cell_type": "code",
   "execution_count": 83,
   "id": "4d8811bc",
   "metadata": {},
   "outputs": [],
   "source": [
    "maia_1100_model = LczeroModel.from_path(\"maia1100.onnx\")\n",
    "maia_1900_model = LczeroModel.from_path(\"maia1900.onnx\")\n",
    "white_sampler = MCTSSampler(model=maia_1100_model, num_simulations=1000, use_argmax=True)\n",
    "black_sampler = ModelSampler(model=maia_1900_model, use_argmax=True)"
   ]
  },
  {
   "cell_type": "code",
   "execution_count": 84,
   "id": "3eca8ab0",
   "metadata": {},
   "outputs": [
    {
     "data": {
      "text/plain": [
       "TensorDict(\n",
       "    fields={\n",
       "        boards: Tensor(shape=torch.Size([112, 8, 8]), device=cpu, dtype=torch.float32, is_shared=False),\n",
       "        policy: Tensor(shape=torch.Size([20]), device=cpu, dtype=torch.float32, is_shared=False),\n",
       "        wdl: Tensor(shape=torch.Size([3]), device=cpu, dtype=torch.float32, is_shared=False)},\n",
       "    batch_size=torch.Size([]),\n",
       "    device=None,\n",
       "    is_shared=False)"
      ]
     },
     "execution_count": 84,
     "metadata": {},
     "output_type": "execute_result"
    }
   ],
   "source": [
    "board = LczeroBoard()\n",
    "td = maia_1100_model(board)[0]\n",
    "legal_indices = board.get_legal_indices()\n",
    "td[\"policy\"] = td[\"policy\"].gather(0, legal_indices)\n",
    "# .gather(1, legal_indices).shape\n",
    "td"
   ]
  },
  {
   "cell_type": "code",
   "execution_count": 85,
   "id": "7d420954",
   "metadata": {},
   "outputs": [
    {
     "data": {
      "text/plain": [
       "['policy', 'wdl']"
      ]
     },
     "execution_count": 85,
     "metadata": {},
     "output_type": "execute_result"
    }
   ],
   "source": [
    "# white_sampler._heuristic.out_keys\n",
    "maia_1100_model._get_output_names(maia_1100_model.module)"
   ]
  },
  {
   "cell_type": "markdown",
   "id": "7a08d2b4",
   "metadata": {},
   "source": [
    "## Initialize SelfPlay"
   ]
  },
  {
   "cell_type": "code",
   "execution_count": 86,
   "id": "39088a3e",
   "metadata": {},
   "outputs": [],
   "source": [
    "self_play = SelfPlay(white=white_sampler, black=black_sampler)\n",
    "logs = []\n",
    "\n",
    "\n",
    "def report_fn(log, to_play):\n",
    "    logs.append((log, to_play))"
   ]
  },
  {
   "cell_type": "markdown",
   "id": "63bf0c68",
   "metadata": {},
   "source": [
    "## Play Game"
   ]
  },
  {
   "cell_type": "code",
   "execution_count": 87,
   "id": "aea38a01",
   "metadata": {},
   "outputs": [],
   "source": [
    "board = LczeroBoard()\n",
    "\n",
    "game_moves, final_board = self_play.play(board=board, max_moves=100, report_fn=report_fn)"
   ]
  },
  {
   "cell_type": "markdown",
   "id": "24a85351",
   "metadata": {},
   "source": [
    "## Display Results"
   ]
  },
  {
   "cell_type": "code",
   "execution_count": 88,
   "id": "caf9892b",
   "metadata": {},
   "outputs": [
    {
     "name": "stdout",
     "output_type": "stream",
     "text": [
      "Game moves: [Move.from_uci('e2e4'), Move.from_uci('c7c5'), Move.from_uci('g1f3'), Move.from_uci('d7d6'), Move.from_uci('d2d4'), Move.from_uci('c5d4'), Move.from_uci('f3d4'), Move.from_uci('g8f6'), Move.from_uci('b1c3'), Move.from_uci('a7a6'), Move.from_uci('f1c4'), Move.from_uci('e7e6'), Move.from_uci('c1g5'), Move.from_uci('f8e7'), Move.from_uci('g5f6'), Move.from_uci('e7f6'), Move.from_uci('d4f3'), Move.from_uci('d8c7'), Move.from_uci('c4b3'), Move.from_uci('f6c3'), Move.from_uci('b2c3'), Move.from_uci('c7c3'), Move.from_uci('f3d2'), Move.from_uci('b8c6'), Move.from_uci('b3a4'), Move.from_uci('b7b5'), Move.from_uci('a4b3'), Move.from_uci('c8b7'), Move.from_uci('a1b1'), Move.from_uci('c6d4'), Move.from_uci('f2f3'), Move.from_uci('c3e3'), Move.from_uci('e1f1'), Move.from_uci('a8c8'), Move.from_uci('d1e1'), Move.from_uci('e3c3'), Move.from_uci('f1f2'), Move.from_uci('d4c2'), Move.from_uci('b3c2'), Move.from_uci('c3c2'), Move.from_uci('b1c1'), Move.from_uci('c2c1'), Move.from_uci('e1c1'), Move.from_uci('c8c1'), Move.from_uci('h1c1'), Move.from_uci('e8d7'), Move.from_uci('d2b3'), Move.from_uci('h8c8'), Move.from_uci('c1c8'), Move.from_uci('b7c8'), Move.from_uci('b3a5'), Move.from_uci('d7c7'), Move.from_uci('a5b3'), Move.from_uci('c7b6'), Move.from_uci('f2e3'), Move.from_uci('a6a5'), Move.from_uci('e3d4'), Move.from_uci('a5a4'), Move.from_uci('b3d2'), Move.from_uci('c8b7'), Move.from_uci('d4c3'), Move.from_uci('b6c5'), Move.from_uci('a2a3'), Move.from_uci('d6d5'), Move.from_uci('e4d5'), Move.from_uci('b7d5'), Move.from_uci('d2e4'), Move.from_uci('d5e4'), Move.from_uci('f3e4'), Move.from_uci('e6e5'), Move.from_uci('g2g4'), Move.from_uci('f7f6'), Move.from_uci('h2h4'), Move.from_uci('h7h6'), Move.from_uci('h4h5'), Move.from_uci('c5d6'), Move.from_uci('c3b4'), Move.from_uci('d6c6'), Move.from_uci('b4a5'), Move.from_uci('c6c5'), Move.from_uci('g4g5'), Move.from_uci('h6g5'), Move.from_uci('h5h6'), Move.from_uci('g7h6'), Move.from_uci('a5a6'), Move.from_uci('h6h5'), Move.from_uci('a6a5'), Move.from_uci('h5h4'), Move.from_uci('a5a6'), Move.from_uci('h4h3'), Move.from_uci('a6a5'), Move.from_uci('h3h2'), Move.from_uci('a5a6'), Move.from_uci('h2h1'), Move.from_uci('a6a5'), Move.from_uci('g5g4'), Move.from_uci('a5a6'), Move.from_uci('g4g3'), Move.from_uci('a6a5'), Move.from_uci('g3g2')]\n",
      "Game result: *\n"
     ]
    }
   ],
   "source": [
    "print(\"Game moves:\", game_moves)\n",
    "print(\"Game result:\", final_board.result())"
   ]
  }
 ],
 "metadata": {
  "kernelspec": {
   "display_name": "lczerolens (3.11.10)",
   "language": "python",
   "name": "python3"
  },
  "language_info": {
   "codemirror_mode": {
    "name": "ipython",
    "version": 3
   },
   "file_extension": ".py",
   "mimetype": "text/x-python",
   "name": "python",
   "nbconvert_exporter": "python",
   "pygments_lexer": "ipython3",
   "version": "3.11.10"
  }
 },
 "nbformat": 4,
 "nbformat_minor": 5
}
