{
  "cells": [
    {
      "cell_type": "markdown",
      "metadata": {},
      "source": [
        "# Run Models on GPU\n",
        "\n",
        "[![Open In Colab](https://colab.research.google.com/assets/colab-badge.svg)](https://colab.research.google.com/github/Xmaster6y/lczerolens/blob/main/docs/source/notebooks/features/train_saes.ipynb)"
      ]
    },
    {
      "cell_type": "markdown",
      "metadata": {
        "id": "dB5gMB8-_YUI"
      },
      "source": [
        "## Setup"
      ]
    },
    {
      "cell_type": "code",
      "execution_count": null,
      "metadata": {
        "id": "OV_dFfnB_n7V"
      },
      "outputs": [],
      "source": [
        "DEV = False"
      ]
    },
    {
      "cell_type": "code",
      "execution_count": null,
      "metadata": {
        "colab": {
          "base_uri": "https://localhost:8080/"
        },
        "id": "Xmcwpzw_-zwo",
        "outputId": "00efcb4c-eb53-4b9c-d91e-ae37aeebf040"
      },
      "outputs": [],
      "source": [
        "if DEV:\n",
        "    !rm -r lczerolens\n",
        "    !git clone https://github.com/Xmaster6y/lczerolens -b <branch>\n",
        "    !pip install -q ./lczerolens\n",
        "else:\n",
        "    !pip install -q lczerolens"
      ]
    },
    {
      "cell_type": "code",
      "execution_count": null,
      "metadata": {
        "id": "9fw4RnRqMfY7"
      },
      "outputs": [],
      "source": [
        "!gdown 1cxC8_8vw7akfPyc9cZxwaAbLG2Zl4XiT -O lc0-10-4238.onnx"
      ]
    },
    {
      "cell_type": "code",
      "execution_count": null,
      "metadata": {
        "id": "lk7N3u3koAfN"
      },
      "outputs": [],
      "source": [
        "import torch\n",
        "\n",
        "if not torch.cuda.is_available():\n",
        "    raise RuntimeError(\"This notebook requires a GPU\")"
      ]
    },
    {
      "cell_type": "markdown",
      "metadata": {
        "id": "ELP-wQ9Y_zBe"
      },
      "source": [
        "## Load the Model and the Dataset"
      ]
    },
    {
      "cell_type": "code",
      "execution_count": null,
      "metadata": {
        "id": "_tefanOKAHGK"
      },
      "outputs": [],
      "source": [
        "from datasets import load_dataset\n",
        "from lczerolens import LczeroModel\n",
        "\n",
        "model = LczeroModel.from_path(\n",
        "    \"lc0-10-4238.onnx\"\n",
        ").to(\"cuda\")\n",
        "\n",
        "dataset = load_dataset(\"lczero-planning/boards\")\n",
        "dataset"
      ]
    },
    {
      "cell_type": "code",
      "execution_count": null,
      "metadata": {
        "id": "lqxD8ZeQyrya"
      },
      "outputs": [],
      "source": [
        "model"
      ]
    },
    {
      "cell_type": "markdown",
      "metadata": {
        "id": "cB-SZgLbmenh"
      },
      "source": [
        "## Setup Activation Buffer"
      ]
    },
    {
      "cell_type": "code",
      "execution_count": null,
      "metadata": {
        "id": "9UHkMimc8Xk4"
      },
      "outputs": [],
      "source": [
        "import chess\n",
        "import einops\n",
        "\n",
        "def collate_fn(batch):\n",
        "    boards = []\n",
        "    for x in batch:\n",
        "        fen = x[\"fen\"]\n",
        "        moves = x[\"moves\"]\n",
        "        board = chess.Board(fen)\n",
        "        for move in moves:\n",
        "            board.push(chess.Move.from_uci(move))\n",
        "        boards.append(board)\n",
        "    return boards\n",
        "\n",
        "def compute_fn(batch, model, contrastive, lens):\n",
        "    boards = batch\n",
        "    storage = lens.analyse(*boards, model=model)[0]\n",
        "    if len(storage.keys()) != 1:\n",
        "        raise NotImplementedError\n",
        "    acts = next(iter(storage.values()))\n",
        "    return einops.rearrange(acts, \"b c h w -> (b h w) c\")\n"
      ]
    },
    {
      "cell_type": "code",
      "execution_count": null,
      "metadata": {
        "id": "HkYmLwBVodLc"
      },
      "outputs": [],
      "source": [
        "from lczerolens.lenses import ActivationLens, ActivationBuffer\n",
        "\n",
        "MODULE_NAME = \"block9/conv2/relu\"\n",
        "LENS = ActivationLens(MODULE_NAME)\n",
        "N_BATCHES_IN_BUFFER = 15\n",
        "COMPUTE_BATCH_SIZE = 1_000\n",
        "TRAIN_BATCH_SIZE = 10_000\n"
      ]
    },
    {
      "cell_type": "code",
      "execution_count": null,
      "metadata": {
        "id": "NgrzGB4nyWJh"
      },
      "outputs": [],
      "source": [
        "train_buffer = ActivationBuffer(\n",
        "    model,\n",
        "    dataset[\"train\"],\n",
        "    compute_fn,\n",
        "    N_BATCHES_IN_BUFFER,\n",
        "    COMPUTE_BATCH_SIZE,\n",
        "    TRAIN_BATCH_SIZE,\n",
        "    dataloader_kwargs={\"collate_fn\": collate_fn},\n",
        ")\n",
        "\n",
        "val_buffer = ActivationBuffer(\n",
        "    model,\n",
        "    dataset[\"test\"],\n",
        "    compute_fn,\n",
        "    N_BATCHES_IN_BUFFER,\n",
        "    COMPUTE_BATCH_SIZE,\n",
        "    TRAIN_BATCH_SIZE,\n",
        "    dataloader_kwargs={\"collate_fn\": collate_fn},\n",
        ")"
      ]
    },
    {
      "cell_type": "code",
      "execution_count": null,
      "metadata": {
        "id": "HyiCsxIxJSed"
      },
      "outputs": [],
      "source": [
        "acts = next(iter(train_buffer))\n",
        "print(\"Out acts: \", acts.shape)\n",
        "print(\"Stored acts: \", torch.cat(train_buffer._buffer, dim=0).shape)"
      ]
    },
    {
      "cell_type": "markdown",
      "metadata": {},
      "source": [
        "## Train a SAE"
      ]
    },
    {
      "cell_type": "markdown",
      "metadata": {},
      "source": []
    },
    {
      "cell_type": "markdown",
      "metadata": {},
      "source": [
        "## Evaluate a SAE"
      ]
    },
    {
      "cell_type": "markdown",
      "metadata": {},
      "source": []
    }
  ],
  "metadata": {
    "accelerator": "GPU",
    "colab": {
      "gpuType": "T4",
      "provenance": []
    },
    "kernelspec": {
      "display_name": "Python 3",
      "name": "python3"
    },
    "language_info": {
      "name": "python"
    }
  },
  "nbformat": 4,
  "nbformat_minor": 0
}
