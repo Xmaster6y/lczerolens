{
 "cells": [
  {
   "cell_type": "markdown",
   "metadata": {},
   "source": [
    "# Framework-Agnostic Interpretability\n",
    "\n",
    "[![Open In Colab](https://colab.research.google.com/assets/colab-badge.svg)](https://colab.research.google.com/github/Xmaster6y/lczerolens/blob/main/docs/source/notebooks/tutorials/framework-agnostic-interpretability.ipynb)\n"
   ]
  },
  {
   "cell_type": "markdown",
   "metadata": {},
   "source": [
    "## Setup\n"
   ]
  },
  {
   "cell_type": "code",
   "execution_count": null,
   "metadata": {},
   "outputs": [],
   "source": [
    "MODE = \"local\"  # \"colab\" | \"colab-dev\" | \"local\""
   ]
  },
  {
   "cell_type": "code",
   "execution_count": null,
   "metadata": {},
   "outputs": [],
   "source": [
    "if MODE == \"colab\":\n",
    "    %pip install -q lczerolens\n",
    "elif MODE == \"colab-dev\":\n",
    "    !rm -r lczerolens\n",
    "    !git clone https://github.com/Xmaster6y/lczerolens -b main\n",
    "    %pip install -q ./lczerolens"
   ]
  },
  {
   "cell_type": "markdown",
   "metadata": {},
   "source": [
    "## Load a Model and Board\n"
   ]
  },
  {
   "cell_type": "code",
   "execution_count": null,
   "metadata": {},
   "outputs": [],
   "source": [
    "from lczerolens import LczeroBoard, LczeroModel\n",
    "\n",
    "model = LczeroModel.from_path(\"lc0-19-4508.onnx\")\n",
    "board = LczeroBoard()"
   ]
  },
  {
   "cell_type": "markdown",
   "metadata": {},
   "source": [
    "## Compute Heatmaps with Different Frameworks\n",
    "\n",
    "This notebook demonstrates how to use `lczerolens` with multiple interpretability frameworks.\n"
   ]
  },
  {
   "cell_type": "code",
   "execution_count": 1,
   "metadata": {},
   "outputs": [],
   "source": [
    "def show_heatmap(h):\n",
    "    svg_board, svg_colorbar = board.render_heatmap(h.view(64).detach(), normalise=\"abs\")\n",
    "    display({\"text/html\": svg_board}, raw=True)\n",
    "    display({\"text/html\": svg_colorbar}, raw=True)"
   ]
  },
  {
   "cell_type": "code",
   "execution_count": null,
   "metadata": {},
   "outputs": [],
   "source": [
    "# TODO: add tdhook example"
   ]
  },
  {
   "cell_type": "code",
   "execution_count": null,
   "metadata": {},
   "outputs": [],
   "source": [
    "from captum.attr import Saliency\n",
    "\n",
    "sal = Saliency(lambda x: model(x)[\"value\"])\n",
    "grads = sal.attribute(board.to_input_tensor().unsqueeze(0), target=None)\n",
    "heatmap = grads.abs().mean(dim=1).view(112, 64)[0]\n",
    "show_heatmap(heatmap)"
   ]
  },
  {
   "cell_type": "code",
   "execution_count": null,
   "metadata": {},
   "outputs": [],
   "source": [
    "# TODO: add zennit example"
   ]
  },
  {
   "cell_type": "code",
   "execution_count": null,
   "metadata": {},
   "outputs": [],
   "source": [
    "# TODO: add nnsight example"
   ]
  }
 ],
 "metadata": {
  "kernelspec": {
   "display_name": ".venv",
   "language": "python",
   "name": "python3"
  },
  "language_info": {
   "codemirror_mode": {
    "name": "ipython",
    "version": 3
   },
   "file_extension": ".py",
   "mimetype": "text/x-python",
   "name": "python",
   "nbconvert_exporter": "python",
   "pygments_lexer": "ipython3",
   "version": "3.12.3"
  }
 },
 "nbformat": 4,
 "nbformat_minor": 2
}
